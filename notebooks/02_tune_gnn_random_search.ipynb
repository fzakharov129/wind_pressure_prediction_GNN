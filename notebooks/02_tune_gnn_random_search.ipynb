{
 "cells": [
  {
   "cell_type": "code",
   "execution_count": null,
   "id": "f6d14ff0",
   "metadata": {},
   "outputs": [],
   "source": [
    "# 📦 Стандартные библиотеки\n",
    "import os\n",
    "import json\n",
    "import random\n",
    "import datetime\n",
    "from copy import deepcopy\n",
    "\n",
    "# 🧰 Прогресс-бары\n",
    "from tqdm import tqdm\n",
    "\n",
    "# 📊 Научные библиотеки\n",
    "import numpy as np\n",
    "import matplotlib.pyplot as plt\n",
    "\n",
    "# 🧮 Машинное обучение (метрики, кросс-валидация)\n",
    "from sklearn.model_selection import KFold\n",
    "from sklearn.metrics import (\n",
    "    r2_score,\n",
    "    mean_absolute_error,\n",
    "    mean_squared_error\n",
    ")\n",
    "\n",
    "# 🔥 PyTorch\n",
    "import torch\n",
    "import torch.nn as nn\n",
    "import torch.nn.functional as F\n",
    "\n",
    "# 🧠 PyTorch Geometric\n",
    "from torch_geometric.data import Data, DataLoader\n",
    "from torch_geometric.nn import (\n",
    "    GCNConv,\n",
    "    BatchNorm,\n",
    "    global_mean_pool,\n",
    "    global_max_pool,\n",
    "    global_add_pool\n",
    ")"
   ]
  },
  {
   "cell_type": "code",
   "execution_count": 12,
   "id": "28d1e026",
   "metadata": {},
   "outputs": [],
   "source": [
    "SAVE_DIR = \"/mnt/d/projects/wind_pressure_prediction_GNN/experiments/tuning_GNN\"\n",
    "LOG_CSV_PATH = \"/mnt/d/projects/wind_pressure_prediction_GNN/experiments/log_gnn.csv\"\n",
    "train_graphs_dir = \"/mnt/d/projects/wind_pressure_prediction_GNN/data/processed/Graphs_train\""
   ]
  },
  {
   "cell_type": "code",
   "execution_count": 13,
   "id": "df2b0379",
   "metadata": {},
   "outputs": [
    {
     "name": "stdout",
     "output_type": "stream",
     "text": [
      "💻 Используется CPU\n"
     ]
    }
   ],
   "source": [
    "def get_device():\n",
    "    if torch.cuda.is_available():\n",
    "        device = torch.device(\"cuda\")\n",
    "        print(f\"🚀 Используется GPU: {torch.cuda.get_device_name(0)}\")\n",
    "    else:\n",
    "        device = torch.device(\"cpu\")\n",
    "        print(\"💻 Используется CPU\")\n",
    "    return device\n",
    "\n",
    "device = get_device()"
   ]
  },
  {
   "cell_type": "code",
   "execution_count": 14,
   "id": "d3a61740",
   "metadata": {},
   "outputs": [
    {
     "name": "stdout",
     "output_type": "stream",
     "text": [
      "✅ Загружено 486 графов из /mnt/d/projects/wind_pressure_prediction_GNN/data/processed/Graphs_train\n"
     ]
    }
   ],
   "source": [
    "# 🔧 Путь к графам трейна (для Linux / WSL)\n",
    "\n",
    "def load_train_graphs(train_graphs_dir):\n",
    "    \"\"\"\n",
    "    Загружает графы из указанной директории и возвращает список объектов Data (PyG)\n",
    "    \"\"\"\n",
    "    graphs = []\n",
    "    for filename in os.listdir(train_graphs_dir):\n",
    "        if filename.endswith(\".pt\"):\n",
    "            path = os.path.join(train_graphs_dir, filename)\n",
    "            try:\n",
    "                data = torch.load(path, weights_only=False)  # 👈 обязательно для PyTorch 2.6+\n",
    "                graphs.append(data)\n",
    "            except Exception as e:\n",
    "                print(f\"⚠️ Ошибка при загрузке {filename}: {e}\")\n",
    "    print(f\"✅ Загружено {len(graphs)} графов из {train_graphs_dir}\")\n",
    "    return graphs\n",
    "\n",
    "# 📦 Загрузка графов\n",
    "train_graphs = load_train_graphs(train_graphs_dir)\n"
   ]
  },
  {
   "cell_type": "code",
   "execution_count": null,
   "id": "08dccd5b",
   "metadata": {},
   "outputs": [],
   "source": [
    "class GCNRegressor(nn.Module):\n",
    "    def __init__(\n",
    "        self,\n",
    "        in_channels,\n",
    "        hidden_channels,\n",
    "        out_channels,\n",
    "        num_layers=3,\n",
    "        activation_fn=nn.ReLU(),\n",
    "        use_batchnorm=True,\n",
    "        pooling='mean',  # 'mean', 'max', 'add'\n",
    "        dropout=0.2\n",
    "    ):\n",
    "        super(GCNRegressor, self).__init__()\n",
    "\n",
    "        self.activation_fn = activation_fn\n",
    "        self.use_batchnorm = use_batchnorm\n",
    "        self.dropout = dropout\n",
    "\n",
    "        # 🔹 Слои GCN\n",
    "        self.convs = nn.ModuleList()\n",
    "        self.bns = nn.ModuleList()\n",
    "\n",
    "        self.convs.append(GCNConv(in_channels, hidden_channels))\n",
    "        if use_batchnorm:\n",
    "            self.bns.append(BatchNorm(hidden_channels))\n",
    "\n",
    "        for _ in range(num_layers - 1):\n",
    "            self.convs.append(GCNConv(hidden_channels, hidden_channels))\n",
    "            if use_batchnorm:\n",
    "                self.bns.append(BatchNorm(hidden_channels))\n",
    "\n",
    "        # 🔹 Пулинг\n",
    "        if pooling == 'mean':\n",
    "            self.pool = global_mean_pool\n",
    "        elif pooling == 'max':\n",
    "            self.pool = global_max_pool\n",
    "        elif pooling == 'add':\n",
    "            self.pool = global_add_pool\n",
    "        else:\n",
    "            raise ValueError(f\"Unsupported pooling method: {pooling}\")\n",
    "\n",
    "        # 🔹 Финальный регрессор\n",
    "        self.lin1 = nn.Linear(hidden_channels, hidden_channels)\n",
    "        self.lin2 = nn.Linear(hidden_channels, out_channels)\n",
    "\n",
    "    def forward(self, x, edge_index, batch):\n",
    "        for i, conv in enumerate(self.convs):\n",
    "            x = conv(x, edge_index)\n",
    "            if self.use_batchnorm:\n",
    "                x = self.bns[i](x)\n",
    "            x = self.activation_fn(x)\n",
    "\n",
    "        x = self.lin1(x)\n",
    "        x = self.activation_fn(x)\n",
    "        x = F.dropout(x, p=self.dropout, training=self.training)\n",
    "        x = self.lin2(x)\n",
    "        return x"
   ]
  },
  {
   "cell_type": "code",
   "execution_count": null,
   "id": "4bb4af81",
   "metadata": {},
   "outputs": [],
   "source": [
    "def evaluate_gnn_model(model, dataloader, device='cpu', save_dir=None, save_prefix=\"_eval\"):\n",
    "    model.eval()\n",
    "    model.to(device)\n",
    "\n",
    "    y_true_all = []\n",
    "    y_pred_all = []\n",
    "\n",
    "    with torch.no_grad():\n",
    "        for batch in dataloader:\n",
    "            batch = batch.to(device)\n",
    "\n",
    "            outputs = model(batch.x, batch.edge_index, batch.batch)\n",
    "            y_pred_all.extend(outputs.squeeze().cpu().numpy())\n",
    "            y_true_all.extend(batch.y.squeeze().cpu().numpy())\n",
    "\n",
    "    # 🧮 Метрики\n",
    "    y_true = np.array(y_true_all)\n",
    "    y_pred = np.array(y_pred_all)\n",
    "\n",
    "    r2 = r2_score(y_true, y_pred)\n",
    "    mae = mean_absolute_error(y_true, y_pred)\n",
    "    mse = mean_squared_error(y_true, y_pred)\n",
    "\n",
    "    return r2, mae, mse\n"
   ]
  },
  {
   "cell_type": "code",
   "execution_count": 17,
   "id": "c76ba999",
   "metadata": {},
   "outputs": [],
   "source": [
    "def train_gnn_crossval(\n",
    "    dataset,\n",
    "    model_class,\n",
    "    model_params,\n",
    "    loss_fn,\n",
    "    optimizer_class,\n",
    "    optimizer_params,\n",
    "    num_epochs,\n",
    "    device,\n",
    "    k_folds,\n",
    "    batch_size,\n",
    "    val_every,\n",
    "    early_stopping_rounds,\n",
    "    metric_for_early_stopping,\n",
    "    maximize\n",
    "):\n",
    "    all_metrics = []\n",
    "\n",
    "    kfold = KFold(n_splits=k_folds, shuffle=True, random_state=42)\n",
    "\n",
    "    for fold, (train_idx, val_idx) in enumerate(kfold.split(dataset)):\n",
    "        print(f\"\\n🌀 Fold {fold + 1}/{k_folds}\")\n",
    "\n",
    "        train_subset = [dataset[i] for i in train_idx]\n",
    "        val_subset = [dataset[i] for i in val_idx]\n",
    "\n",
    "        train_loader = DataLoader(train_subset, batch_size=batch_size, shuffle=True)\n",
    "        val_loader = DataLoader(val_subset, batch_size=batch_size, shuffle=False)\n",
    "\n",
    "        model = model_class(**model_params).to(device)\n",
    "        optimizer = optimizer_class(model.parameters(), **optimizer_params)\n",
    "\n",
    "        best_metric = -np.inf if maximize else np.inf\n",
    "        no_improve_epochs = 0\n",
    "\n",
    "        for epoch in tqdm(range(1, num_epochs + 1), desc=f\"🌀 Fold {fold + 1}\"):\n",
    "            model.train()\n",
    "            total_loss = 0.0\n",
    "\n",
    "            for batch in train_loader:\n",
    "                batch = batch.to(device)\n",
    "                optimizer.zero_grad()\n",
    "                out = model(batch.x, batch.edge_index, batch.batch)\n",
    "                loss = loss_fn(out.squeeze(), batch.y.squeeze())\n",
    "                loss.backward()\n",
    "                optimizer.step()\n",
    "                total_loss += loss.item()\n",
    "\n",
    "            avg_loss = total_loss / len(train_loader)\n",
    "\n",
    "            # 🔄 Каждые val_every эпох + первая и последняя\n",
    "            if epoch % val_every == 0 or epoch == 1 or epoch == num_epochs:\n",
    "                model.eval()\n",
    "                y_true_all = []\n",
    "                y_pred_all = []\n",
    "\n",
    "                with torch.no_grad():\n",
    "                    for batch in val_loader:\n",
    "                        batch = batch.to(device)\n",
    "                        out = model(batch.x, batch.edge_index, batch.batch).squeeze()\n",
    "                        y_true_all.append(batch.y.squeeze().cpu())\n",
    "                        y_pred_all.append(out.cpu())\n",
    "\n",
    "                y_true_all = torch.cat(y_true_all).numpy()\n",
    "                y_pred_all = torch.cat(y_pred_all).numpy()\n",
    "\n",
    "                r2 = r2_score(y_true_all, y_pred_all)\n",
    "                mae = mean_absolute_error(y_true_all, y_pred_all)\n",
    "                mse = mean_squared_error(y_true_all, y_pred_all)\n",
    "\n",
    "                print(f\"📉 Epoch {epoch:02d} | Train Loss: {avg_loss:.6f} | \"\n",
    "                    f\"Val R²: {r2:.4f} | \"\n",
    "                    f\"MAE: {mae:.4f} | \"\n",
    "                    f\"MSE: {mse:.6f}\")\n",
    "\n",
    "\n",
    "            # Валидация\n",
    "            if epoch % val_every == 0 or epoch == num_epochs:\n",
    "                r2, mae, mse = evaluate_gnn_model(model, val_loader, device=device, save_dir=None)\n",
    "\n",
    "                current_metric = {\"r2\": r2, \"mae\": mae, \"mse\": mse}[metric_for_early_stopping]\n",
    "\n",
    "                is_better = (current_metric > best_metric) if maximize else (current_metric < best_metric)\n",
    "\n",
    "                if is_better:\n",
    "                    best_metric = current_metric\n",
    "                    no_improve_epochs = 0\n",
    "                else:\n",
    "                    no_improve_epochs += 1\n",
    "                    print(f\"⏸️  No improvement for {no_improve_epochs} validation checks\")\n",
    "         \n",
    "                if no_improve_epochs >= early_stopping_rounds:\n",
    "                    print(f\"🛑 Early stopping at epoch {epoch}\")\n",
    "                    print(\"📊 Final Evaluation on Validation Set:\")\n",
    "                    print(f\"   R²   = {r2:.4f}\")\n",
    "                    print(f\"   MAE  = {mae:.4f}\")\n",
    "                    print(f\"   MSE  = {mse:.6f}\")\n",
    "                    break\n",
    "    \n",
    "\n",
    "        all_metrics.append({\n",
    "            \"fold\": fold + 1,\n",
    "            \"r2\": r2,\n",
    "            \"mae\": mae,\n",
    "            \"mse\": mse\n",
    "        })\n",
    "\n",
    "    # 📊 Средние метрики по всем фолдам\n",
    "    mean_r2 = np.mean([m[\"r2\"] for m in all_metrics])\n",
    "    mean_mae = np.mean([m[\"mae\"] for m in all_metrics])\n",
    "    mean_mse = np.mean([m[\"mse\"] for m in all_metrics])\n",
    "\n",
    "    return all_metrics\n"
   ]
  },
  {
   "cell_type": "code",
   "execution_count": 18,
   "id": "ccdf218b",
   "metadata": {},
   "outputs": [],
   "source": [
    "def create_run_directory(run_name=\"gnn\"):\n",
    "    base_dir = SAVE_DIR\n",
    "    timestamp = datetime.datetime.now().strftime(\"%Y%m%d_%H%M%S\")\n",
    "    run_id = f\"{run_name}_{timestamp}\"\n",
    "    run_dir = os.path.join(base_dir, run_id)\n",
    "    os.makedirs(run_dir, exist_ok=True)\n",
    "    return run_id, run_dir\n",
    "\n",
    "\n",
    "def save_gnn_run_log(run_id, run_dir, config, avg_metrics, log_csv_path, model=None, r2_threshold=0.2):\n",
    "    \"\"\"\n",
    "    Сохраняет конфигурацию, метрики и веса модели, если достигнут порог R².\n",
    "    \"\"\"\n",
    "    # ➤ Сохраняем config\n",
    "    config_path = os.path.join(run_dir, f\"config_{run_id}.json\")\n",
    "    with open(config_path, \"w\") as f:\n",
    "        json.dump(config, f, indent=4)\n",
    "\n",
    "    # ➤ Готовим лог\n",
    "    log_header = \"run_id,model,lr,batch_size,activation_fn,optimizer,hidden_channels,num_layers,use_batchnorm,pooling,dropout,R2,MAE,MSE\\n\"\n",
    "    log_line = (\n",
    "        f\"{run_id},gnn,{config['lr']},{config['batch_size']},\"\n",
    "        f\"{config['activation_fn']},{config['optimizer']},\"\n",
    "        f\"{config['hidden_channels']},{config['num_layers']},{config['use_batchnorm']},\"\n",
    "        f\"{config['pooling']},{config['dropout']},\"\n",
    "        f\"{avg_metrics['r2']:.4f},{avg_metrics['mae']:.4f},{avg_metrics['mse']:.6f}\\n\"\n",
    "    )\n",
    "\n",
    "    # ➤ Записываем лог\n",
    "    write_header = not os.path.exists(log_csv_path)\n",
    "    with open(log_csv_path, \"a\") as f:\n",
    "        if write_header:\n",
    "            f.write(log_header)\n",
    "        f.write(log_line)\n",
    "\n",
    "    return config_path, log_csv_path\n"
   ]
  },
  {
   "cell_type": "code",
   "execution_count": 19,
   "id": "8e6da2f0",
   "metadata": {},
   "outputs": [],
   "source": [
    "EPOCHS = 100\n",
    "\n",
    "def run_gnn_random_search_and_train(\n",
    "    dataset,\n",
    "    num_trials,\n",
    "    device='cuda' if torch.cuda.is_available() else 'cpu',\n",
    "    num_epochs=EPOCHS,\n",
    "    k_folds=3,\n",
    "    val_every=10\n",
    "    ):\n",
    "    param_space = {\n",
    "        \"hidden_channels\": [32, 64, 128],\n",
    "        \"batch_size\": [16, 32, 64],\n",
    "        \"num_layers\": [2, 3, 4],\n",
    "        \"activation_fn\": [nn.ReLU(), nn.ELU(), nn.LeakyReLU(0.1)],\n",
    "        \"use_batchnorm\": [True, False],\n",
    "        \"pooling\": [\"mean\", \"max\", \"add\"],\n",
    "        \"dropout\": [0.0, 0.1, 0.2, 0.3],\n",
    "        \"lr\": [1e-2, 1e-3, 5e-4],\n",
    "        \"optimizer\": [\"Adam\", \"SGD\"]\n",
    "    }\n",
    "\n",
    "    best_r2 = -float(\"inf\")\n",
    "    best_config = None\n",
    "    best_metrics = None\n",
    "    log = []\n",
    "\n",
    "    for trial in range(num_trials):\n",
    "        print(f\"\\n🎲 Random Search Trial {trial + 1}/{num_trials}\")\n",
    "\n",
    "        config = {\n",
    "            \"hidden_channels\": random.choice(param_space[\"hidden_channels\"]),\n",
    "            \"batch_size\": random.choice(param_space[\"batch_size\"]),\n",
    "            \"num_layers\": random.choice(param_space[\"num_layers\"]),\n",
    "            \"activation_fn\": random.choice(param_space[\"activation_fn\"]),\n",
    "            \"use_batchnorm\": random.choice(param_space[\"use_batchnorm\"]),\n",
    "            \"pooling\": random.choice(param_space[\"pooling\"]),\n",
    "            \"dropout\": random.choice(param_space[\"dropout\"]),\n",
    "            \"lr\": random.choice(param_space[\"lr\"]),\n",
    "            \"optimizer\": random.choice(param_space[\"optimizer\"]),\n",
    "        }\n",
    "\n",
    "        print(\"🛠 Гиперпараметры:\")\n",
    "        for k, v in config.items():\n",
    "            name = v.__class__.__name__ if callable(v) else v\n",
    "            print(f\"   {k:<15}: {name}\")\n",
    "\n",
    "\n",
    "        model_params = {\n",
    "            \"in_channels\": 5,\n",
    "            \"hidden_channels\": config[\"hidden_channels\"],\n",
    "            \"out_channels\": 1,\n",
    "            \"num_layers\": config[\"num_layers\"],\n",
    "            \"activation_fn\": config[\"activation_fn\"],\n",
    "            \"use_batchnorm\": config[\"use_batchnorm\"],\n",
    "            \"pooling\": config[\"pooling\"],\n",
    "            \"dropout\": config[\"dropout\"]\n",
    "        }\n",
    "\n",
    "\n",
    "        optimizer_class = torch.optim.Adam if config[\"optimizer\"] == \"Adam\" else torch.optim.SGD\n",
    "        optimizer_params = {\"lr\": config[\"lr\"]}\n",
    "        if config[\"optimizer\"] == \"SGD\":\n",
    "            optimizer_params[\"momentum\"] = 0.9\n",
    "\n",
    "        metrics = train_gnn_crossval(\n",
    "            dataset=deepcopy(dataset),\n",
    "            model_class=GCNRegressor,\n",
    "            model_params=model_params,\n",
    "            loss_fn=nn.MSELoss(),\n",
    "            optimizer_class=optimizer_class,\n",
    "            optimizer_params=optimizer_params,\n",
    "            device=device,\n",
    "            num_epochs=num_epochs,\n",
    "            k_folds=k_folds,\n",
    "            val_every=val_every,\n",
    "            batch_size=config[\"batch_size\"],  # ← ЭТО ДОБАВЬ\n",
    "            early_stopping_rounds=10,               # ← ОБЯЗАТЕЛЕН\n",
    "            metric_for_early_stopping=\"r2\",         # ← ОБЯЗАТЕЛЕН\n",
    "            maximize=True \n",
    "        )\n",
    "\n",
    "        avg_metrics = {\n",
    "            \"r2\": np.mean([m[\"r2\"] for m in metrics]),\n",
    "            \"mae\": np.mean([m[\"mae\"] for m in metrics]),\n",
    "            \"mse\": np.mean([m[\"mse\"] for m in metrics]),\n",
    "        }\n",
    "\n",
    "        print()\n",
    "        print(f\"✅ Trial {trial + 1} — Средние метрики:\")\n",
    "        for k, v in avg_metrics.items():\n",
    "            print(f\"   {k.upper():<5}: {v:.4f}\")\n",
    "\n",
    "        log.append({\n",
    "            \"trial\": trial + 1,\n",
    "            \"config\": {k: (v.__class__.__name__ if callable(v) else v) for k, v in config.items()},\n",
    "            \"metrics\": avg_metrics\n",
    "        })\n",
    "\n",
    "        run_id, run_dir = create_run_directory(\"gnn\")\n",
    "\n",
    "        config_serializable = {\n",
    "            k: v.__class__.__name__ if callable(v) else v\n",
    "            for k, v in config.items()\n",
    "        }\n",
    "\n",
    "        save_gnn_run_log(\n",
    "            run_id=run_id,\n",
    "            run_dir=run_dir,\n",
    "            config=config_serializable,  # ✅ безопасная версия\n",
    "            avg_metrics=avg_metrics,\n",
    "            log_csv_path=LOG_CSV_PATH,\n",
    "            model=None\n",
    "        )\n",
    "\n",
    "        if avg_metrics[\"r2\"] > best_r2:\n",
    "            best_r2 = avg_metrics[\"r2\"]\n",
    "            best_config = config\n",
    "            best_metrics = metrics\n",
    "\n",
    "    print(\"\\n📜 Лог всех прогонов:\")\n",
    "    for entry in log:\n",
    "        print(f\"Trial {entry['trial']}:\")\n",
    "        print(f\"   R²   : {entry['metrics']['r2']:.4f}\")\n",
    "        print(f\"   MAE  : {entry['metrics']['mae']:.4f}\")\n",
    "        print(f\"   MSE  : {entry['metrics']['mse']:.6f}\")\n",
    "        print(f\"   🔧 Гиперпараметры:\")\n",
    "        for k, v in entry['config'].items():\n",
    "            print(f\"      {k:<15}: {v}\")\n",
    "\n",
    "\n",
    "    return best_config, best_metrics, log"
   ]
  },
  {
   "cell_type": "code",
   "execution_count": 20,
   "id": "7502212b",
   "metadata": {},
   "outputs": [
    {
     "name": "stderr",
     "output_type": "stream",
     "text": [
      "/mnt/d/projects/wind_pressure_prediction_GNN/linux_wpp_GNN/lib/python3.12/site-packages/torch_geometric/deprecation.py:26: UserWarning: 'data.DataLoader' is deprecated, use 'loader.DataLoader' instead\n",
      "  warnings.warn(out)\n"
     ]
    },
    {
     "name": "stdout",
     "output_type": "stream",
     "text": [
      "✅ Загружено 486 графов из /mnt/d/projects/wind_pressure_prediction_GNN/data/processed/Graphs_train\n",
      "\n",
      "🎲 Random Search Trial 1/2\n",
      "🛠 Гиперпараметры:\n",
      "   hidden_channels: 128\n",
      "   batch_size     : 16\n",
      "   num_layers     : 3\n",
      "   activation_fn  : ReLU\n",
      "   use_batchnorm  : True\n",
      "   pooling        : max\n",
      "   dropout        : 0.0\n",
      "   lr             : 0.01\n",
      "   optimizer      : Adam\n",
      "\n",
      "🌀 Fold 1/3\n"
     ]
    },
    {
     "name": "stderr",
     "output_type": "stream",
     "text": [
      "🌀 Fold 1:   1%|          | 1/100 [00:00<01:28,  1.12it/s]"
     ]
    },
    {
     "name": "stdout",
     "output_type": "stream",
     "text": [
      "📉 Epoch 01 | Train Loss: 0.361061 | Val R²: 0.0202 | MAE: 0.3914 | MSE: 0.244872\n"
     ]
    },
    {
     "name": "stderr",
     "output_type": "stream",
     "text": [
      "🌀 Fold 1:   9%|▉         | 9/100 [00:06<01:04,  1.41it/s]"
     ]
    },
    {
     "name": "stdout",
     "output_type": "stream",
     "text": [
      "📉 Epoch 10 | Train Loss: 0.090617 | Val R²: 0.7563 | MAE: 0.1825 | MSE: 0.060913\n"
     ]
    },
    {
     "name": "stderr",
     "output_type": "stream",
     "text": [
      "🌀 Fold 1:  20%|██        | 20/100 [00:15<01:05,  1.23it/s]"
     ]
    },
    {
     "name": "stdout",
     "output_type": "stream",
     "text": [
      "📉 Epoch 20 | Train Loss: 0.063709 | Val R²: 0.7689 | MAE: 0.1775 | MSE: 0.057756\n"
     ]
    },
    {
     "name": "stderr",
     "output_type": "stream",
     "text": [
      "🌀 Fold 1:  29%|██▉       | 29/100 [00:22<00:57,  1.24it/s]"
     ]
    },
    {
     "name": "stdout",
     "output_type": "stream",
     "text": [
      "📉 Epoch 30 | Train Loss: 0.052994 | Val R²: 0.8293 | MAE: 0.1456 | MSE: 0.042655\n"
     ]
    },
    {
     "name": "stderr",
     "output_type": "stream",
     "text": [
      "🌀 Fold 1:  39%|███▉      | 39/100 [00:30<00:51,  1.18it/s]"
     ]
    },
    {
     "name": "stdout",
     "output_type": "stream",
     "text": [
      "📉 Epoch 40 | Train Loss: 0.059439 | Val R²: 0.8723 | MAE: 0.1306 | MSE: 0.031922\n"
     ]
    },
    {
     "name": "stderr",
     "output_type": "stream",
     "text": [
      "🌀 Fold 1:  49%|████▉     | 49/100 [00:42<00:47,  1.07it/s]"
     ]
    },
    {
     "name": "stdout",
     "output_type": "stream",
     "text": [
      "📉 Epoch 50 | Train Loss: 0.057572 | Val R²: 0.8231 | MAE: 0.1426 | MSE: 0.044222\n"
     ]
    },
    {
     "name": "stderr",
     "output_type": "stream",
     "text": [
      "🌀 Fold 1:  50%|█████     | 50/100 [00:44<00:52,  1.05s/it]"
     ]
    },
    {
     "name": "stdout",
     "output_type": "stream",
     "text": [
      "⏸️  No improvement for 1 validation checks\n"
     ]
    },
    {
     "name": "stderr",
     "output_type": "stream",
     "text": [
      "🌀 Fold 1:  59%|█████▉    | 59/100 [00:52<00:37,  1.11it/s]"
     ]
    },
    {
     "name": "stdout",
     "output_type": "stream",
     "text": [
      "📉 Epoch 60 | Train Loss: 0.051410 | Val R²: 0.8688 | MAE: 0.1292 | MSE: 0.032782\n"
     ]
    },
    {
     "name": "stderr",
     "output_type": "stream",
     "text": [
      "🌀 Fold 1:  60%|██████    | 60/100 [00:53<00:41,  1.03s/it]"
     ]
    },
    {
     "name": "stdout",
     "output_type": "stream",
     "text": [
      "⏸️  No improvement for 2 validation checks\n"
     ]
    },
    {
     "name": "stderr",
     "output_type": "stream",
     "text": [
      "🌀 Fold 1:  69%|██████▉   | 69/100 [01:01<00:27,  1.12it/s]"
     ]
    },
    {
     "name": "stdout",
     "output_type": "stream",
     "text": [
      "📉 Epoch 70 | Train Loss: 0.045956 | Val R²: 0.8295 | MAE: 0.1466 | MSE: 0.042613\n"
     ]
    },
    {
     "name": "stderr",
     "output_type": "stream",
     "text": [
      "🌀 Fold 1:  70%|███████   | 70/100 [01:03<00:30,  1.03s/it]"
     ]
    },
    {
     "name": "stdout",
     "output_type": "stream",
     "text": [
      "⏸️  No improvement for 3 validation checks\n"
     ]
    },
    {
     "name": "stderr",
     "output_type": "stream",
     "text": [
      "🌀 Fold 1:  79%|███████▉  | 79/100 [01:14<00:21,  1.04s/it]"
     ]
    },
    {
     "name": "stdout",
     "output_type": "stream",
     "text": [
      "📉 Epoch 80 | Train Loss: 0.057927 | Val R²: 0.8897 | MAE: 0.1193 | MSE: 0.027575\n"
     ]
    },
    {
     "name": "stderr",
     "output_type": "stream",
     "text": [
      "🌀 Fold 1:  89%|████████▉ | 89/100 [01:23<00:10,  1.10it/s]"
     ]
    },
    {
     "name": "stdout",
     "output_type": "stream",
     "text": [
      "📉 Epoch 90 | Train Loss: 0.062810 | Val R²: 0.8465 | MAE: 0.1371 | MSE: 0.038354\n"
     ]
    },
    {
     "name": "stderr",
     "output_type": "stream",
     "text": [
      "🌀 Fold 1:  90%|█████████ | 90/100 [01:25<00:10,  1.05s/it]"
     ]
    },
    {
     "name": "stdout",
     "output_type": "stream",
     "text": [
      "⏸️  No improvement for 1 validation checks\n"
     ]
    },
    {
     "name": "stderr",
     "output_type": "stream",
     "text": [
      "🌀 Fold 1:  99%|█████████▉| 99/100 [01:33<00:00,  1.10it/s]"
     ]
    },
    {
     "name": "stdout",
     "output_type": "stream",
     "text": [
      "📉 Epoch 100 | Train Loss: 0.038717 | Val R²: 0.9161 | MAE: 0.1009 | MSE: 0.020964\n"
     ]
    },
    {
     "name": "stderr",
     "output_type": "stream",
     "text": [
      "🌀 Fold 1: 100%|██████████| 100/100 [01:34<00:00,  1.06it/s]\n",
      "/mnt/d/projects/wind_pressure_prediction_GNN/linux_wpp_GNN/lib/python3.12/site-packages/torch_geometric/deprecation.py:26: UserWarning: 'data.DataLoader' is deprecated, use 'loader.DataLoader' instead\n",
      "  warnings.warn(out)\n"
     ]
    },
    {
     "name": "stdout",
     "output_type": "stream",
     "text": [
      "\n",
      "🌀 Fold 2/3\n"
     ]
    },
    {
     "name": "stderr",
     "output_type": "stream",
     "text": [
      "🌀 Fold 2:   1%|          | 1/100 [00:01<01:52,  1.14s/it]"
     ]
    },
    {
     "name": "stdout",
     "output_type": "stream",
     "text": [
      "📉 Epoch 01 | Train Loss: 0.422188 | Val R²: 0.1412 | MAE: 0.3859 | MSE: 0.222047\n"
     ]
    },
    {
     "name": "stderr",
     "output_type": "stream",
     "text": [
      "🌀 Fold 2:   9%|▉         | 9/100 [00:11<02:19,  1.53s/it]"
     ]
    },
    {
     "name": "stdout",
     "output_type": "stream",
     "text": [
      "📉 Epoch 10 | Train Loss: 0.073904 | Val R²: 0.7826 | MAE: 0.1674 | MSE: 0.056200\n"
     ]
    },
    {
     "name": "stderr",
     "output_type": "stream",
     "text": [
      "🌀 Fold 2:  19%|█▉        | 19/100 [00:20<01:14,  1.09it/s]"
     ]
    },
    {
     "name": "stdout",
     "output_type": "stream",
     "text": [
      "📉 Epoch 20 | Train Loss: 0.049898 | Val R²: 0.8128 | MAE: 0.1558 | MSE: 0.048405\n"
     ]
    },
    {
     "name": "stderr",
     "output_type": "stream",
     "text": [
      "🌀 Fold 2:  29%|██▉       | 29/100 [00:29<01:03,  1.11it/s]"
     ]
    },
    {
     "name": "stdout",
     "output_type": "stream",
     "text": [
      "📉 Epoch 30 | Train Loss: 0.070318 | Val R²: 0.7570 | MAE: 0.1846 | MSE: 0.062818\n"
     ]
    },
    {
     "name": "stderr",
     "output_type": "stream",
     "text": [
      "🌀 Fold 2:  30%|███       | 30/100 [00:31<01:12,  1.04s/it]"
     ]
    },
    {
     "name": "stdout",
     "output_type": "stream",
     "text": [
      "⏸️  No improvement for 1 validation checks\n"
     ]
    },
    {
     "name": "stderr",
     "output_type": "stream",
     "text": [
      "🌀 Fold 2:  39%|███▉      | 39/100 [00:39<00:54,  1.11it/s]"
     ]
    },
    {
     "name": "stdout",
     "output_type": "stream",
     "text": [
      "📉 Epoch 40 | Train Loss: 0.056803 | Val R²: 0.8772 | MAE: 0.1238 | MSE: 0.031738\n"
     ]
    },
    {
     "name": "stderr",
     "output_type": "stream",
     "text": [
      "🌀 Fold 2:  49%|████▉     | 49/100 [00:51<00:49,  1.04it/s]"
     ]
    },
    {
     "name": "stdout",
     "output_type": "stream",
     "text": [
      "📉 Epoch 50 | Train Loss: 0.047894 | Val R²: 0.8803 | MAE: 0.1196 | MSE: 0.030943\n"
     ]
    },
    {
     "name": "stderr",
     "output_type": "stream",
     "text": [
      "🌀 Fold 2:  59%|█████▉    | 59/100 [01:01<00:36,  1.11it/s]"
     ]
    },
    {
     "name": "stdout",
     "output_type": "stream",
     "text": [
      "📉 Epoch 60 | Train Loss: 0.051293 | Val R²: 0.8873 | MAE: 0.1234 | MSE: 0.029148\n"
     ]
    },
    {
     "name": "stderr",
     "output_type": "stream",
     "text": [
      "🌀 Fold 2:  69%|██████▉   | 69/100 [01:10<00:27,  1.12it/s]"
     ]
    },
    {
     "name": "stdout",
     "output_type": "stream",
     "text": [
      "📉 Epoch 70 | Train Loss: 0.045358 | Val R²: 0.8603 | MAE: 0.1369 | MSE: 0.036126\n"
     ]
    },
    {
     "name": "stderr",
     "output_type": "stream",
     "text": [
      "🌀 Fold 2:  70%|███████   | 70/100 [01:11<00:30,  1.03s/it]"
     ]
    },
    {
     "name": "stdout",
     "output_type": "stream",
     "text": [
      "⏸️  No improvement for 1 validation checks\n"
     ]
    },
    {
     "name": "stderr",
     "output_type": "stream",
     "text": [
      "🌀 Fold 2:  79%|███████▉  | 79/100 [01:23<00:25,  1.22s/it]"
     ]
    },
    {
     "name": "stdout",
     "output_type": "stream",
     "text": [
      "📉 Epoch 80 | Train Loss: 0.050616 | Val R²: 0.8657 | MAE: 0.1394 | MSE: 0.034725\n"
     ]
    },
    {
     "name": "stderr",
     "output_type": "stream",
     "text": [
      "🌀 Fold 2:  80%|████████  | 80/100 [01:24<00:25,  1.28s/it]"
     ]
    },
    {
     "name": "stdout",
     "output_type": "stream",
     "text": [
      "⏸️  No improvement for 2 validation checks\n"
     ]
    },
    {
     "name": "stderr",
     "output_type": "stream",
     "text": [
      "🌀 Fold 2:  89%|████████▉ | 89/100 [01:32<00:10,  1.09it/s]"
     ]
    },
    {
     "name": "stdout",
     "output_type": "stream",
     "text": [
      "📉 Epoch 90 | Train Loss: 0.052811 | Val R²: 0.8704 | MAE: 0.1289 | MSE: 0.033504\n"
     ]
    },
    {
     "name": "stderr",
     "output_type": "stream",
     "text": [
      "🌀 Fold 2:  90%|█████████ | 90/100 [01:33<00:10,  1.04s/it]"
     ]
    },
    {
     "name": "stdout",
     "output_type": "stream",
     "text": [
      "⏸️  No improvement for 3 validation checks\n"
     ]
    },
    {
     "name": "stderr",
     "output_type": "stream",
     "text": [
      "🌀 Fold 2:  99%|█████████▉| 99/100 [01:41<00:00,  1.12it/s]"
     ]
    },
    {
     "name": "stdout",
     "output_type": "stream",
     "text": [
      "📉 Epoch 100 | Train Loss: 0.049909 | Val R²: 0.8608 | MAE: 0.1286 | MSE: 0.035985\n"
     ]
    },
    {
     "name": "stderr",
     "output_type": "stream",
     "text": [
      "🌀 Fold 2: 100%|██████████| 100/100 [01:43<00:00,  1.04s/it]\n",
      "/mnt/d/projects/wind_pressure_prediction_GNN/linux_wpp_GNN/lib/python3.12/site-packages/torch_geometric/deprecation.py:26: UserWarning: 'data.DataLoader' is deprecated, use 'loader.DataLoader' instead\n",
      "  warnings.warn(out)\n"
     ]
    },
    {
     "name": "stdout",
     "output_type": "stream",
     "text": [
      "⏸️  No improvement for 4 validation checks\n",
      "\n",
      "🌀 Fold 3/3\n"
     ]
    },
    {
     "name": "stderr",
     "output_type": "stream",
     "text": [
      "🌀 Fold 3:   1%|          | 1/100 [00:01<02:02,  1.24s/it]"
     ]
    },
    {
     "name": "stdout",
     "output_type": "stream",
     "text": [
      "📉 Epoch 01 | Train Loss: 0.486363 | Val R²: -0.1157 | MAE: 0.3992 | MSE: 0.277001\n"
     ]
    },
    {
     "name": "stderr",
     "output_type": "stream",
     "text": [
      "🌀 Fold 3:   9%|▉         | 9/100 [00:11<02:46,  1.82s/it]"
     ]
    },
    {
     "name": "stdout",
     "output_type": "stream",
     "text": [
      "📉 Epoch 10 | Train Loss: 0.109802 | Val R²: 0.5546 | MAE: 0.2289 | MSE: 0.110585\n"
     ]
    },
    {
     "name": "stderr",
     "output_type": "stream",
     "text": [
      "🌀 Fold 3:  19%|█▉        | 19/100 [00:21<01:15,  1.07it/s]"
     ]
    },
    {
     "name": "stdout",
     "output_type": "stream",
     "text": [
      "📉 Epoch 20 | Train Loss: 0.084985 | Val R²: 0.6770 | MAE: 0.1996 | MSE: 0.080190\n"
     ]
    },
    {
     "name": "stderr",
     "output_type": "stream",
     "text": [
      "🌀 Fold 3:  29%|██▉       | 29/100 [00:30<01:03,  1.12it/s]"
     ]
    },
    {
     "name": "stdout",
     "output_type": "stream",
     "text": [
      "📉 Epoch 30 | Train Loss: 0.071821 | Val R²: 0.8189 | MAE: 0.1555 | MSE: 0.044952\n"
     ]
    },
    {
     "name": "stderr",
     "output_type": "stream",
     "text": [
      "🌀 Fold 3:  39%|███▉      | 39/100 [00:40<00:57,  1.06it/s]"
     ]
    },
    {
     "name": "stdout",
     "output_type": "stream",
     "text": [
      "📉 Epoch 40 | Train Loss: 0.073230 | Val R²: 0.7799 | MAE: 0.1717 | MSE: 0.054633\n"
     ]
    },
    {
     "name": "stderr",
     "output_type": "stream",
     "text": [
      "🌀 Fold 3:  40%|████      | 40/100 [00:41<01:04,  1.07s/it]"
     ]
    },
    {
     "name": "stdout",
     "output_type": "stream",
     "text": [
      "⏸️  No improvement for 1 validation checks\n"
     ]
    },
    {
     "name": "stderr",
     "output_type": "stream",
     "text": [
      "🌀 Fold 3:  49%|████▉     | 49/100 [00:52<00:51,  1.02s/it]"
     ]
    },
    {
     "name": "stdout",
     "output_type": "stream",
     "text": [
      "📉 Epoch 50 | Train Loss: 0.058538 | Val R²: 0.8198 | MAE: 0.1511 | MSE: 0.044728\n"
     ]
    },
    {
     "name": "stderr",
     "output_type": "stream",
     "text": [
      "🌀 Fold 3:  59%|█████▉    | 59/100 [01:02<00:37,  1.08it/s]"
     ]
    },
    {
     "name": "stdout",
     "output_type": "stream",
     "text": [
      "📉 Epoch 60 | Train Loss: 0.058176 | Val R²: 0.7918 | MAE: 0.1653 | MSE: 0.051701\n"
     ]
    },
    {
     "name": "stderr",
     "output_type": "stream",
     "text": [
      "🌀 Fold 3:  60%|██████    | 60/100 [01:03<00:42,  1.06s/it]"
     ]
    },
    {
     "name": "stdout",
     "output_type": "stream",
     "text": [
      "⏸️  No improvement for 1 validation checks\n"
     ]
    },
    {
     "name": "stderr",
     "output_type": "stream",
     "text": [
      "🌀 Fold 3:  69%|██████▉   | 69/100 [01:12<00:28,  1.09it/s]"
     ]
    },
    {
     "name": "stdout",
     "output_type": "stream",
     "text": [
      "📉 Epoch 70 | Train Loss: 0.050769 | Val R²: 0.8313 | MAE: 0.1454 | MSE: 0.041891\n"
     ]
    },
    {
     "name": "stderr",
     "output_type": "stream",
     "text": [
      "🌀 Fold 3:  79%|███████▉  | 79/100 [01:24<00:26,  1.24s/it]"
     ]
    },
    {
     "name": "stdout",
     "output_type": "stream",
     "text": [
      "📉 Epoch 80 | Train Loss: 0.058855 | Val R²: 0.7998 | MAE: 0.1573 | MSE: 0.049699\n"
     ]
    },
    {
     "name": "stderr",
     "output_type": "stream",
     "text": [
      "🌀 Fold 3:  80%|████████  | 80/100 [01:26<00:25,  1.29s/it]"
     ]
    },
    {
     "name": "stdout",
     "output_type": "stream",
     "text": [
      "⏸️  No improvement for 1 validation checks\n"
     ]
    },
    {
     "name": "stderr",
     "output_type": "stream",
     "text": [
      "🌀 Fold 3:  89%|████████▉ | 89/100 [01:34<00:10,  1.07it/s]"
     ]
    },
    {
     "name": "stdout",
     "output_type": "stream",
     "text": [
      "📉 Epoch 90 | Train Loss: 0.053532 | Val R²: 0.8474 | MAE: 0.1324 | MSE: 0.037880\n"
     ]
    },
    {
     "name": "stderr",
     "output_type": "stream",
     "text": [
      "🌀 Fold 3:  99%|█████████▉| 99/100 [01:44<00:00,  1.06it/s]"
     ]
    },
    {
     "name": "stdout",
     "output_type": "stream",
     "text": [
      "📉 Epoch 100 | Train Loss: 0.051693 | Val R²: 0.8854 | MAE: 0.1150 | MSE: 0.028456\n"
     ]
    },
    {
     "name": "stderr",
     "output_type": "stream",
     "text": [
      "🌀 Fold 3: 100%|██████████| 100/100 [01:45<00:00,  1.06s/it]\n",
      "/mnt/d/projects/wind_pressure_prediction_GNN/linux_wpp_GNN/lib/python3.12/site-packages/torch_geometric/deprecation.py:26: UserWarning: 'data.DataLoader' is deprecated, use 'loader.DataLoader' instead\n",
      "  warnings.warn(out)\n"
     ]
    },
    {
     "name": "stdout",
     "output_type": "stream",
     "text": [
      "\n",
      "✅ Trial 1 — Средние метрики:\n",
      "   R2   : 0.8874\n",
      "   MAE  : 0.1148\n",
      "   MSE  : 0.0285\n",
      "\n",
      "🎲 Random Search Trial 2/2\n",
      "🛠 Гиперпараметры:\n",
      "   hidden_channels: 32\n",
      "   batch_size     : 64\n",
      "   num_layers     : 4\n",
      "   activation_fn  : ReLU\n",
      "   use_batchnorm  : False\n",
      "   pooling        : mean\n",
      "   dropout        : 0.2\n",
      "   lr             : 0.0005\n",
      "   optimizer      : SGD\n",
      "\n",
      "🌀 Fold 1/3\n"
     ]
    },
    {
     "name": "stderr",
     "output_type": "stream",
     "text": [
      "🌀 Fold 1:   1%|          | 1/100 [00:00<00:46,  2.11it/s]"
     ]
    },
    {
     "name": "stdout",
     "output_type": "stream",
     "text": [
      "📉 Epoch 01 | Train Loss: 2.453170 | Val R²: -2.0487 | MAE: 0.7682 | MSE: 0.761928\n"
     ]
    },
    {
     "name": "stderr",
     "output_type": "stream",
     "text": [
      "🌀 Fold 1:  10%|█         | 10/100 [00:04<00:38,  2.31it/s]"
     ]
    },
    {
     "name": "stdout",
     "output_type": "stream",
     "text": [
      "📉 Epoch 10 | Train Loss: 0.245844 | Val R²: 0.0363 | MAE: 0.4126 | MSE: 0.240839\n"
     ]
    },
    {
     "name": "stderr",
     "output_type": "stream",
     "text": [
      "🌀 Fold 1:  20%|██        | 20/100 [00:07<00:34,  2.34it/s]"
     ]
    },
    {
     "name": "stdout",
     "output_type": "stream",
     "text": [
      "📉 Epoch 20 | Train Loss: 0.247453 | Val R²: 0.0871 | MAE: 0.3980 | MSE: 0.228141\n"
     ]
    },
    {
     "name": "stderr",
     "output_type": "stream",
     "text": [
      "🌀 Fold 1:  30%|███       | 30/100 [00:14<00:33,  2.11it/s]"
     ]
    },
    {
     "name": "stdout",
     "output_type": "stream",
     "text": [
      "📉 Epoch 30 | Train Loss: 0.224167 | Val R²: 0.1212 | MAE: 0.3823 | MSE: 0.219640\n"
     ]
    },
    {
     "name": "stderr",
     "output_type": "stream",
     "text": [
      "🌀 Fold 1:  40%|████      | 40/100 [00:18<00:25,  2.40it/s]"
     ]
    },
    {
     "name": "stdout",
     "output_type": "stream",
     "text": [
      "📉 Epoch 40 | Train Loss: 0.201299 | Val R²: 0.1646 | MAE: 0.3656 | MSE: 0.208781\n"
     ]
    },
    {
     "name": "stderr",
     "output_type": "stream",
     "text": [
      "🌀 Fold 1:  50%|█████     | 50/100 [00:22<00:22,  2.21it/s]"
     ]
    },
    {
     "name": "stdout",
     "output_type": "stream",
     "text": [
      "📉 Epoch 50 | Train Loss: 0.211244 | Val R²: 0.1949 | MAE: 0.3578 | MSE: 0.201209\n"
     ]
    },
    {
     "name": "stderr",
     "output_type": "stream",
     "text": [
      "🌀 Fold 1:  60%|██████    | 60/100 [00:27<00:20,  1.97it/s]"
     ]
    },
    {
     "name": "stdout",
     "output_type": "stream",
     "text": [
      "📉 Epoch 60 | Train Loss: 0.206571 | Val R²: 0.2229 | MAE: 0.3483 | MSE: 0.194206\n"
     ]
    },
    {
     "name": "stderr",
     "output_type": "stream",
     "text": [
      "🌀 Fold 1:  70%|███████   | 70/100 [00:31<00:13,  2.20it/s]"
     ]
    },
    {
     "name": "stdout",
     "output_type": "stream",
     "text": [
      "📉 Epoch 70 | Train Loss: 0.196675 | Val R²: 0.2513 | MAE: 0.3404 | MSE: 0.187113\n"
     ]
    },
    {
     "name": "stderr",
     "output_type": "stream",
     "text": [
      "🌀 Fold 1:  80%|████████  | 80/100 [00:35<00:09,  2.19it/s]"
     ]
    },
    {
     "name": "stdout",
     "output_type": "stream",
     "text": [
      "📉 Epoch 80 | Train Loss: 0.183515 | Val R²: 0.2789 | MAE: 0.3324 | MSE: 0.180229\n"
     ]
    },
    {
     "name": "stderr",
     "output_type": "stream",
     "text": [
      "🌀 Fold 1:  90%|█████████ | 90/100 [00:39<00:04,  2.26it/s]"
     ]
    },
    {
     "name": "stdout",
     "output_type": "stream",
     "text": [
      "📉 Epoch 90 | Train Loss: 0.180155 | Val R²: 0.2997 | MAE: 0.3277 | MSE: 0.175031\n"
     ]
    },
    {
     "name": "stderr",
     "output_type": "stream",
     "text": [
      "🌀 Fold 1: 100%|██████████| 100/100 [00:46<00:00,  2.14it/s]\n",
      "/mnt/d/projects/wind_pressure_prediction_GNN/linux_wpp_GNN/lib/python3.12/site-packages/torch_geometric/deprecation.py:26: UserWarning: 'data.DataLoader' is deprecated, use 'loader.DataLoader' instead\n",
      "  warnings.warn(out)\n"
     ]
    },
    {
     "name": "stdout",
     "output_type": "stream",
     "text": [
      "📉 Epoch 100 | Train Loss: 0.169878 | Val R²: 0.3169 | MAE: 0.3229 | MSE: 0.170729\n",
      "\n",
      "🌀 Fold 2/3\n"
     ]
    },
    {
     "name": "stderr",
     "output_type": "stream",
     "text": [
      "🌀 Fold 2:   1%|          | 1/100 [00:00<00:49,  1.99it/s]"
     ]
    },
    {
     "name": "stdout",
     "output_type": "stream",
     "text": [
      "📉 Epoch 01 | Train Loss: 0.414449 | Val R²: 0.0039 | MAE: 0.4319 | MSE: 0.257544\n"
     ]
    },
    {
     "name": "stderr",
     "output_type": "stream",
     "text": [
      "🌀 Fold 2:  10%|█         | 10/100 [00:04<00:43,  2.09it/s]"
     ]
    },
    {
     "name": "stdout",
     "output_type": "stream",
     "text": [
      "📉 Epoch 10 | Train Loss: 0.248214 | Val R²: 0.0474 | MAE: 0.4156 | MSE: 0.246305\n"
     ]
    },
    {
     "name": "stderr",
     "output_type": "stream",
     "text": [
      "🌀 Fold 2:  20%|██        | 20/100 [00:08<00:37,  2.15it/s]"
     ]
    },
    {
     "name": "stdout",
     "output_type": "stream",
     "text": [
      "📉 Epoch 20 | Train Loss: 0.243234 | Val R²: 0.0831 | MAE: 0.4023 | MSE: 0.237069\n"
     ]
    },
    {
     "name": "stderr",
     "output_type": "stream",
     "text": [
      "🌀 Fold 2:  30%|███       | 30/100 [00:13<00:36,  1.91it/s]"
     ]
    },
    {
     "name": "stdout",
     "output_type": "stream",
     "text": [
      "📉 Epoch 30 | Train Loss: 0.230591 | Val R²: 0.1165 | MAE: 0.3927 | MSE: 0.228450\n"
     ]
    },
    {
     "name": "stderr",
     "output_type": "stream",
     "text": [
      "🌀 Fold 2:  40%|████      | 40/100 [00:18<00:32,  1.85it/s]"
     ]
    },
    {
     "name": "stdout",
     "output_type": "stream",
     "text": [
      "📉 Epoch 40 | Train Loss: 0.218683 | Val R²: 0.1528 | MAE: 0.3786 | MSE: 0.219046\n"
     ]
    },
    {
     "name": "stderr",
     "output_type": "stream",
     "text": [
      "🌀 Fold 2:  50%|█████     | 50/100 [00:23<00:26,  1.88it/s]"
     ]
    },
    {
     "name": "stdout",
     "output_type": "stream",
     "text": [
      "📉 Epoch 50 | Train Loss: 0.200165 | Val R²: 0.1818 | MAE: 0.3732 | MSE: 0.211564\n"
     ]
    },
    {
     "name": "stderr",
     "output_type": "stream",
     "text": [
      "🌀 Fold 2:  60%|██████    | 60/100 [00:27<00:19,  2.03it/s]"
     ]
    },
    {
     "name": "stdout",
     "output_type": "stream",
     "text": [
      "📉 Epoch 60 | Train Loss: 0.211760 | Val R²: 0.2127 | MAE: 0.3595 | MSE: 0.203560\n"
     ]
    },
    {
     "name": "stderr",
     "output_type": "stream",
     "text": [
      "🌀 Fold 2:  70%|███████   | 70/100 [00:31<00:13,  2.23it/s]"
     ]
    },
    {
     "name": "stdout",
     "output_type": "stream",
     "text": [
      "📉 Epoch 70 | Train Loss: 0.201472 | Val R²: 0.2400 | MAE: 0.3534 | MSE: 0.196514\n"
     ]
    },
    {
     "name": "stderr",
     "output_type": "stream",
     "text": [
      "🌀 Fold 2:  80%|████████  | 80/100 [00:38<00:09,  2.07it/s]"
     ]
    },
    {
     "name": "stdout",
     "output_type": "stream",
     "text": [
      "📉 Epoch 80 | Train Loss: 0.188466 | Val R²: 0.2694 | MAE: 0.3442 | MSE: 0.188915\n"
     ]
    },
    {
     "name": "stderr",
     "output_type": "stream",
     "text": [
      "🌀 Fold 2:  90%|█████████ | 90/100 [00:42<00:04,  2.32it/s]"
     ]
    },
    {
     "name": "stdout",
     "output_type": "stream",
     "text": [
      "📉 Epoch 90 | Train Loss: 0.172778 | Val R²: 0.2996 | MAE: 0.3372 | MSE: 0.181084\n"
     ]
    },
    {
     "name": "stderr",
     "output_type": "stream",
     "text": [
      "🌀 Fold 2: 100%|██████████| 100/100 [00:46<00:00,  2.14it/s]\n",
      "/mnt/d/projects/wind_pressure_prediction_GNN/linux_wpp_GNN/lib/python3.12/site-packages/torch_geometric/deprecation.py:26: UserWarning: 'data.DataLoader' is deprecated, use 'loader.DataLoader' instead\n",
      "  warnings.warn(out)\n"
     ]
    },
    {
     "name": "stdout",
     "output_type": "stream",
     "text": [
      "📉 Epoch 100 | Train Loss: 0.176302 | Val R²: 0.3234 | MAE: 0.3302 | MSE: 0.174950\n",
      "\n",
      "🌀 Fold 3/3\n"
     ]
    },
    {
     "name": "stderr",
     "output_type": "stream",
     "text": [
      "🌀 Fold 3:   1%|          | 1/100 [00:00<00:46,  2.11it/s]"
     ]
    },
    {
     "name": "stdout",
     "output_type": "stream",
     "text": [
      "📉 Epoch 01 | Train Loss: 0.970516 | Val R²: -0.8763 | MAE: 0.5183 | MSE: 0.465832\n"
     ]
    },
    {
     "name": "stderr",
     "output_type": "stream",
     "text": [
      "🌀 Fold 3:  10%|█         | 10/100 [00:04<00:38,  2.32it/s]"
     ]
    },
    {
     "name": "stdout",
     "output_type": "stream",
     "text": [
      "📉 Epoch 10 | Train Loss: 0.253282 | Val R²: 0.0139 | MAE: 0.4123 | MSE: 0.244816\n"
     ]
    },
    {
     "name": "stderr",
     "output_type": "stream",
     "text": [
      "🌀 Fold 3:  20%|██        | 20/100 [00:08<00:36,  2.18it/s]"
     ]
    },
    {
     "name": "stdout",
     "output_type": "stream",
     "text": [
      "📉 Epoch 20 | Train Loss: 0.230388 | Val R²: 0.1035 | MAE: 0.3852 | MSE: 0.222580\n"
     ]
    },
    {
     "name": "stderr",
     "output_type": "stream",
     "text": [
      "🌀 Fold 3:  30%|███       | 30/100 [00:12<00:31,  2.21it/s]"
     ]
    },
    {
     "name": "stdout",
     "output_type": "stream",
     "text": [
      "📉 Epoch 30 | Train Loss: 0.213512 | Val R²: 0.1495 | MAE: 0.3754 | MSE: 0.211160\n"
     ]
    },
    {
     "name": "stderr",
     "output_type": "stream",
     "text": [
      "🌀 Fold 3:  40%|████      | 40/100 [00:16<00:26,  2.27it/s]"
     ]
    },
    {
     "name": "stdout",
     "output_type": "stream",
     "text": [
      "📉 Epoch 40 | Train Loss: 0.205682 | Val R²: 0.1867 | MAE: 0.3619 | MSE: 0.201932\n"
     ]
    },
    {
     "name": "stderr",
     "output_type": "stream",
     "text": [
      "🌀 Fold 3:  50%|█████     | 50/100 [00:23<01:06,  1.34s/it]"
     ]
    },
    {
     "name": "stdout",
     "output_type": "stream",
     "text": [
      "📉 Epoch 50 | Train Loss: 0.209258 | Val R²: 0.2215 | MAE: 0.3496 | MSE: 0.193288\n"
     ]
    },
    {
     "name": "stderr",
     "output_type": "stream",
     "text": [
      "🌀 Fold 3:  60%|██████    | 60/100 [00:27<00:18,  2.18it/s]"
     ]
    },
    {
     "name": "stdout",
     "output_type": "stream",
     "text": [
      "📉 Epoch 60 | Train Loss: 0.194658 | Val R²: 0.2555 | MAE: 0.3414 | MSE: 0.184849\n"
     ]
    },
    {
     "name": "stderr",
     "output_type": "stream",
     "text": [
      "🌀 Fold 3:  70%|███████   | 70/100 [00:31<00:13,  2.17it/s]"
     ]
    },
    {
     "name": "stdout",
     "output_type": "stream",
     "text": [
      "📉 Epoch 70 | Train Loss: 0.194917 | Val R²: 0.2810 | MAE: 0.3346 | MSE: 0.178504\n"
     ]
    },
    {
     "name": "stderr",
     "output_type": "stream",
     "text": [
      "🌀 Fold 3:  80%|████████  | 80/100 [00:35<00:08,  2.29it/s]"
     ]
    },
    {
     "name": "stdout",
     "output_type": "stream",
     "text": [
      "📉 Epoch 80 | Train Loss: 0.187657 | Val R²: 0.3044 | MAE: 0.3270 | MSE: 0.172701\n"
     ]
    },
    {
     "name": "stderr",
     "output_type": "stream",
     "text": [
      "🌀 Fold 3:  90%|█████████ | 90/100 [00:39<00:04,  2.13it/s]"
     ]
    },
    {
     "name": "stdout",
     "output_type": "stream",
     "text": [
      "📉 Epoch 90 | Train Loss: 0.186360 | Val R²: 0.3239 | MAE: 0.3213 | MSE: 0.167864\n"
     ]
    },
    {
     "name": "stderr",
     "output_type": "stream",
     "text": [
      "🌀 Fold 3: 100%|██████████| 100/100 [00:43<00:00,  2.30it/s]"
     ]
    },
    {
     "name": "stdout",
     "output_type": "stream",
     "text": [
      "📉 Epoch 100 | Train Loss: 0.176732 | Val R²: 0.3346 | MAE: 0.3193 | MSE: 0.165205\n",
      "\n",
      "✅ Trial 2 — Средние метрики:\n",
      "   R2   : 0.3249\n",
      "   MAE  : 0.3241\n",
      "   MSE  : 0.1703\n",
      "\n",
      "📜 Лог всех прогонов:\n",
      "Trial 1:\n",
      "   R²   : 0.8874\n",
      "   MAE  : 0.1148\n",
      "   MSE  : 0.028468\n",
      "   🔧 Гиперпараметры:\n",
      "      hidden_channels: 128\n",
      "      batch_size     : 16\n",
      "      num_layers     : 3\n",
      "      activation_fn  : ReLU\n",
      "      use_batchnorm  : True\n",
      "      pooling        : max\n",
      "      dropout        : 0.0\n",
      "      lr             : 0.01\n",
      "      optimizer      : Adam\n",
      "Trial 2:\n",
      "   R²   : 0.3249\n",
      "   MAE  : 0.3241\n",
      "   MSE  : 0.170294\n",
      "   🔧 Гиперпараметры:\n",
      "      hidden_channels: 32\n",
      "      batch_size     : 64\n",
      "      num_layers     : 4\n",
      "      activation_fn  : ReLU\n",
      "      use_batchnorm  : False\n",
      "      pooling        : mean\n",
      "      dropout        : 0.2\n",
      "      lr             : 0.0005\n",
      "      optimizer      : SGD\n"
     ]
    },
    {
     "name": "stderr",
     "output_type": "stream",
     "text": [
      "\n"
     ]
    }
   ],
   "source": [
    "if __name__ == \"__main__\":\n",
    "    dataset = load_train_graphs(train_graphs_dir)\n",
    "    best_config, best_metrics, log = run_gnn_random_search_and_train(\n",
    "        dataset,\n",
    "        num_trials=2,\n",
    "        )\n",
    "\n",
    "\n"
   ]
  }
 ],
 "metadata": {
  "kernelspec": {
   "display_name": "linux_wpp_GNN",
   "language": "python",
   "name": "python3"
  },
  "language_info": {
   "codemirror_mode": {
    "name": "ipython",
    "version": 3
   },
   "file_extension": ".py",
   "mimetype": "text/x-python",
   "name": "python",
   "nbconvert_exporter": "python",
   "pygments_lexer": "ipython3",
   "version": "3.12.3"
  }
 },
 "nbformat": 4,
 "nbformat_minor": 5
}
