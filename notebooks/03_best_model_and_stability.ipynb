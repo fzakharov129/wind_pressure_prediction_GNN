{
 "cells": [
  {
   "cell_type": "code",
   "execution_count": 11,
   "id": "cd0f10c5",
   "metadata": {},
   "outputs": [],
   "source": [
    "# 📦 Стандартные библиотеки\n",
    "import os\n",
    "import time\n",
    "import json\n",
    "import random\n",
    "import glob \n",
    "import csv\n",
    "import shutil\n",
    "from tqdm import tqdm\n",
    "\n",
    "from copy import deepcopy\n",
    "from pathlib import Path\n",
    "\n",
    "# 📊 Научные библиотеки\n",
    "import numpy as np\n",
    "import pandas as pd\n",
    "import matplotlib.pyplot as plt\n",
    "import seaborn as sns\n",
    "from sklearn.model_selection import train_test_split\n",
    "from sklearn.metrics import (\n",
    "    r2_score,\n",
    "    mean_absolute_error,\n",
    "    mean_squared_error\n",
    ")\n",
    "\n",
    "# 🔥 PyTorch\n",
    "import torch\n",
    "import torch.nn as nn\n",
    "import torch.nn.functional as F\n",
    "\n",
    "# 🧠 PyTorch Geometric\n",
    "from torch_geometric.data import Data, DataLoader\n",
    "from torch_geometric.nn import (\n",
    "    GCNConv,\n",
    "    BatchNorm,\n",
    "    global_mean_pool,\n",
    "    global_max_pool,\n",
    "    global_add_pool\n",
    ")\n"
   ]
  },
  {
   "cell_type": "code",
   "execution_count": 12,
   "id": "6b9f3a3d",
   "metadata": {},
   "outputs": [
    {
     "name": "stdout",
     "output_type": "stream",
     "text": [
      "🛠 Device: cpu\n"
     ]
    }
   ],
   "source": [
    "# ----------------------------\n",
    "# Device setup\n",
    "# ----------------------------\n",
    "device = torch.device(\"cuda\" if torch.cuda.is_available() else \"cpu\")\n",
    "print(f\"🛠 Device: {device}\")"
   ]
  },
  {
   "cell_type": "code",
   "execution_count": 13,
   "id": "de9ee409",
   "metadata": {},
   "outputs": [],
   "source": [
    "# ----------------------------\n",
    "# Paths setup (UNIX style)\n",
    "# ----------------------------\n",
    "\n",
    "from pathlib import Path\n",
    "\n",
    "DATA_ROOT = Path(\"/mnt/d/projects/wind_pressure_prediction_GNN/data/processed/Graphs_train/\")\n",
    "SAVE_ROOT = Path(\"/mnt/d/projects/wind_pressure_prediction_GNN/final_model/gnn_0.01lr_16bs_128hc_3lyr_relu_bn_maxpool_adam/\")\n",
    "CONFIG_PATH = SAVE_ROOT / \"gnn_0.01lr_16bs_128hc_3lyr_relu_bn_maxpool_adam.json\"\n",
    "LOG_CSV_PATH = SAVE_ROOT / \"stability_log.csv\""
   ]
  },
  {
   "cell_type": "code",
   "execution_count": 14,
   "id": "7d8d3a1d",
   "metadata": {},
   "outputs": [
    {
     "name": "stdout",
     "output_type": "stream",
     "text": [
      "✅ Загружено 486 графов из /mnt/d/projects/wind_pressure_prediction_GNN/data/processed/Graphs_train\n"
     ]
    }
   ],
   "source": [
    "# 🔧 Путь к графам трейна (для Linux / WSL)\n",
    "\n",
    "def load_train_graphs(DATA_ROOT):\n",
    "    \"\"\"\n",
    "    Загружает графы из указанной директории и возвращает список объектов Data (PyG)\n",
    "    \"\"\"\n",
    "    graphs = []\n",
    "    for filename in os.listdir(DATA_ROOT):\n",
    "        if filename.endswith(\".pt\"):\n",
    "            path = os.path.join(DATA_ROOT, filename)\n",
    "            try:\n",
    "                data = torch.load(path, weights_only=False)  # 👈 обязательно для PyTorch 2.6+\n",
    "                graphs.append(data)\n",
    "            except Exception as e:\n",
    "                print(f\"⚠️ Ошибка при загрузке {filename}: {e}\")\n",
    "    print(f\"✅ Загружено {len(graphs)} графов из {DATA_ROOT}\")\n",
    "    return graphs\n",
    "\n",
    "# 📦 Загрузка графов\n",
    "dataset = load_train_graphs(DATA_ROOT)"
   ]
  },
  {
   "cell_type": "code",
   "execution_count": 15,
   "id": "747df987",
   "metadata": {},
   "outputs": [],
   "source": [
    "class GCNRegressor(nn.Module):\n",
    "    def __init__(\n",
    "        self,\n",
    "        in_channels,\n",
    "        hidden_channels,\n",
    "        out_channels,\n",
    "        num_layers=3,\n",
    "        activation_fn=nn.ReLU(),\n",
    "        use_batchnorm=True,\n",
    "        pooling='mean',  # 'mean', 'max', 'add'\n",
    "        dropout=0.2\n",
    "    ):\n",
    "        super(GCNRegressor, self).__init__()\n",
    "\n",
    "        self.activation_fn = activation_fn\n",
    "        self.use_batchnorm = use_batchnorm\n",
    "        self.dropout = dropout\n",
    "\n",
    "        # 🔹 Слои GCN\n",
    "        self.convs = nn.ModuleList()\n",
    "        self.bns = nn.ModuleList()\n",
    "\n",
    "        self.convs.append(GCNConv(in_channels, hidden_channels))\n",
    "        if use_batchnorm:\n",
    "            self.bns.append(BatchNorm(hidden_channels))\n",
    "\n",
    "        for _ in range(num_layers - 1):\n",
    "            self.convs.append(GCNConv(hidden_channels, hidden_channels))\n",
    "            if use_batchnorm:\n",
    "                self.bns.append(BatchNorm(hidden_channels))\n",
    "\n",
    "        # 🔹 Пулинг\n",
    "        if pooling == 'mean':\n",
    "            self.pool = global_mean_pool\n",
    "        elif pooling == 'max':\n",
    "            self.pool = global_max_pool\n",
    "        elif pooling == 'add':\n",
    "            self.pool = global_add_pool\n",
    "        else:\n",
    "            raise ValueError(f\"Unsupported pooling method: {pooling}\")\n",
    "\n",
    "        # 🔹 Финальный регрессор\n",
    "        self.lin1 = nn.Linear(hidden_channels, hidden_channels)\n",
    "        self.lin2 = nn.Linear(hidden_channels, out_channels)\n",
    "\n",
    "    def forward(self, x, edge_index, batch):\n",
    "        for i, conv in enumerate(self.convs):\n",
    "            x = conv(x, edge_index)\n",
    "            if self.use_batchnorm:\n",
    "                x = self.bns[i](x)\n",
    "            x = self.activation_fn(x)\n",
    "\n",
    "        x = self.lin1(x)\n",
    "        x = self.activation_fn(x)\n",
    "        x = F.dropout(x, p=self.dropout, training=self.training)\n",
    "        x = self.lin2(x)\n",
    "        return x"
   ]
  },
  {
   "cell_type": "code",
   "execution_count": 16,
   "id": "98f50868",
   "metadata": {},
   "outputs": [],
   "source": [
    "def evaluate_gnn_model(model, dataloader, device='cpu', save_dir=None, save_prefix=\"_eval\"):\n",
    "    model.eval()\n",
    "    model.to(device)\n",
    "\n",
    "    y_true_all = []\n",
    "    y_pred_all = []\n",
    "\n",
    "    with torch.no_grad():\n",
    "        for batch in dataloader:\n",
    "            batch = batch.to(device)\n",
    "\n",
    "            outputs = model(batch.x, batch.edge_index, batch.batch)\n",
    "            y_pred_all.extend(outputs.squeeze().cpu().numpy())\n",
    "            y_true_all.extend(batch.y.squeeze().cpu().numpy())\n",
    "\n",
    "    # 🧮 Метрики\n",
    "    y_true = np.array(y_true_all)\n",
    "    y_pred = np.array(y_pred_all)\n",
    "\n",
    "    r2 = r2_score(y_true, y_pred)\n",
    "    mae = mean_absolute_error(y_true, y_pred)\n",
    "    mse = mean_squared_error(y_true, y_pred)\n",
    "\n",
    "    return r2, mae, mse\n"
   ]
  },
  {
   "cell_type": "code",
   "execution_count": 17,
   "id": "62d0c80f",
   "metadata": {},
   "outputs": [],
   "source": [
    "def train_gnn_simple(\n",
    "    dataset,\n",
    "    model_class,\n",
    "    model_params,\n",
    "    loss_fn,\n",
    "    optimizer_class,\n",
    "    optimizer_params,\n",
    "    num_epochs,\n",
    "    device,\n",
    "    batch_size,\n",
    "    run_id,\n",
    "    val_split=0.2,\n",
    "    val_every=10,\n",
    "    early_stopping_rounds=15,\n",
    "    metric_for_early_stopping=\"r2\",\n",
    "    maximize=True,\n",
    "):\n",
    "    # 🔀 Разделение на train/val\n",
    "    num_total = len(dataset)\n",
    "    num_val = int(num_total * val_split)\n",
    "    indices = list(range(num_total))\n",
    "    random.shuffle(indices)\n",
    "\n",
    "    val_idx = indices[:num_val]\n",
    "    train_idx = indices[num_val:]\n",
    "\n",
    "    train_subset = [dataset[i] for i in train_idx]\n",
    "    val_subset = [dataset[i] for i in val_idx]\n",
    "\n",
    "    train_loader = DataLoader(train_subset, batch_size=batch_size, shuffle=True)\n",
    "    val_loader = DataLoader(val_subset, batch_size=batch_size, shuffle=False)\n",
    "\n",
    "    # 🧠 Инициализация модели и оптимизатора\n",
    "    model = model_class(**model_params).to(device)\n",
    "    optimizer = optimizer_class(model.parameters(), **optimizer_params)\n",
    "\n",
    "    best_metric = -np.inf if maximize else np.inf\n",
    "    no_improve_epochs = 0\n",
    "    history = []\n",
    "    best_model_state_dict = None\n",
    "\n",
    "    for epoch in tqdm(range(1, num_epochs + 1), desc=\"📈 Training\"):\n",
    "        model.train()\n",
    "        total_loss = 0.0\n",
    "\n",
    "        for batch in train_loader:\n",
    "            batch = batch.to(device)\n",
    "            optimizer.zero_grad()\n",
    "            out = model(batch.x, batch.edge_index, batch.batch)\n",
    "            loss = loss_fn(out.squeeze(), batch.y.squeeze())\n",
    "            loss.backward()\n",
    "            optimizer.step()\n",
    "            total_loss += loss.item()\n",
    "\n",
    "        avg_loss = total_loss / len(train_loader)\n",
    "\n",
    "        # 🔍 Валидация\n",
    "        if epoch % val_every == 0 or epoch == 1 or epoch == num_epochs:\n",
    "            model.eval()\n",
    "            y_true_all = []\n",
    "            y_pred_all = []\n",
    "\n",
    "            with torch.no_grad():\n",
    "                for batch in val_loader:\n",
    "                    batch = batch.to(device)\n",
    "                    out = model(batch.x, batch.edge_index, batch.batch).squeeze()\n",
    "                    y_true_all.append(batch.y.squeeze().cpu())\n",
    "                    y_pred_all.append(out.cpu())\n",
    "\n",
    "            y_true_all = torch.cat(y_true_all).numpy()\n",
    "            y_pred_all = torch.cat(y_pred_all).numpy()\n",
    "\n",
    "            r2 = r2_score(y_true_all, y_pred_all)\n",
    "            mae = mean_absolute_error(y_true_all, y_pred_all)\n",
    "            mse = mean_squared_error(y_true_all, y_pred_all)\n",
    "\n",
    "            print(f\"📉 Epoch {epoch:02d} | Train Loss: {avg_loss:.6f} | \"\n",
    "                  f\"Val R²: {r2:.4f} | MAE: {mae:.4f} | MSE: {mse:.6f}\")\n",
    "\n",
    "            current_metric = {\"r2\": r2, \"mae\": mae, \"mse\": mse}[metric_for_early_stopping]\n",
    "            is_better = (current_metric > best_metric) if maximize else (current_metric < best_metric)\n",
    "\n",
    "            if is_better:\n",
    "                best_metric = current_metric\n",
    "                no_improve_epochs = 0\n",
    "                best_model_state_dict = deepcopy(model.state_dict())\n",
    "            else:\n",
    "                no_improve_epochs += 1\n",
    "                print(f\"⏸️  No improvement for {no_improve_epochs} validation checks\")\n",
    "\n",
    "            if no_improve_epochs >= early_stopping_rounds:\n",
    "                print(f\"🛑 Early stopping at epoch {epoch}\")\n",
    "                break\n",
    "\n",
    "    # 🔁 Вычисляем метрики заново для best_model_state_dict\n",
    "    if best_model_state_dict is not None:\n",
    "        model.load_state_dict(best_model_state_dict)\n",
    "        model.eval()\n",
    "        y_true_all = []\n",
    "        y_pred_all = []\n",
    "\n",
    "        with torch.no_grad():\n",
    "            for batch in val_loader:\n",
    "                batch = batch.to(device)\n",
    "                out = model(batch.x, batch.edge_index, batch.batch).squeeze()\n",
    "                y_true_all.append(batch.y.squeeze().cpu())\n",
    "                y_pred_all.append(out.cpu())\n",
    "\n",
    "        y_true_all = torch.cat(y_true_all).numpy()\n",
    "        y_pred_all = torch.cat(y_pred_all).numpy()\n",
    "\n",
    "        r2 = r2_score(y_true_all, y_pred_all)\n",
    "        mae = mean_absolute_error(y_true_all, y_pred_all)\n",
    "        mse = mean_squared_error(y_true_all, y_pred_all)\n",
    "\n",
    "\n",
    "    return {\n",
    "        \"r2\": r2,\n",
    "        \"mae\": mae,\n",
    "        \"mse\": mse,\n",
    "        \"model_state_dict\": best_model_state_dict  # ✅ вот оно — возвращаем веса\n",
    "    }\n"
   ]
  },
  {
   "cell_type": "code",
   "execution_count": 18,
   "id": "0a60a99c",
   "metadata": {},
   "outputs": [],
   "source": [
    "def generate_gnn_run_id(\n",
    "    run_name=\"gnn\", lr=0.001, batch_size=32, epochs=100,\n",
    "    hidden_channels=None, activation_fn=None, optimizer_name=None\n",
    "):\n",
    "    run_id = f\"{run_name}_{lr:.0e}lr_{batch_size}bs_{epochs}ep\"\n",
    "\n",
    "    if hidden_channels is not None and not isinstance(hidden_channels, (list, tuple)):\n",
    "        hidden_channels = [hidden_channels]\n",
    "\n",
    "    if hidden_channels is not None:\n",
    "        hidden_str = \"-\".join(map(str, hidden_channels))\n",
    "        run_id += f\"_{hidden_str}ch\"\n",
    "\n",
    "    if activation_fn is not None:\n",
    "        run_id += f\"_{activation_fn.__name__}\"\n",
    "\n",
    "    if optimizer_name is not None:\n",
    "        run_id += f\"_{optimizer_name}\"\n",
    "\n",
    "    return run_id\n"
   ]
  },
  {
   "cell_type": "code",
   "execution_count": 19,
   "id": "6e208128",
   "metadata": {},
   "outputs": [],
   "source": [
    "def run_gnn_train_from_config(\n",
    "    dataset,\n",
    "    config_path,\n",
    "    seeds,\n",
    "    num_epochs=100,\n",
    "    device='cuda' if torch.cuda.is_available() else 'cpu',\n",
    "    val_every=10,\n",
    "    early_stopping_rounds=15,\n",
    "    metric_for_early_stopping=\"r2\",\n",
    "    maximize=True\n",
    "):\n",
    "    # 📥 1. Загрузка конфигурации\n",
    "    with open(config_path, \"r\") as f:\n",
    "        config = json.load(f)\n",
    "\n",
    "    # 📤 Выводим подгруженные гиперпараметры\n",
    "    print(\"\\n📦 Загруженные гиперпараметры из конфигурации:\")\n",
    "    for key, value in config.items():\n",
    "        print(f\"   {key}: {value}\")\n",
    "\n",
    "    all_results = []\n",
    "    base_run_id = config_path.parent.name\n",
    "    best_r2 = -float(\"inf\")\n",
    "    best_model_state_dict = None\n",
    "\n",
    "\n",
    "    for seed in seeds:\n",
    "        print(f\"\\n🌱 Starting training with seed {seed}\")\n",
    "        \n",
    "        # Установка сидов\n",
    "        random.seed(seed)\n",
    "        torch.manual_seed(seed)\n",
    "        torch.cuda.manual_seed_all(seed)\n",
    "        torch.backends.cudnn.deterministic = True\n",
    "        torch.backends.cudnn.benchmark = False\n",
    "\n",
    "        # Разделение train/val\n",
    "        indices = list(range(len(dataset)))\n",
    "        random.shuffle(indices)\n",
    "        split_idx = int(len(indices) * 0.9)\n",
    "        train_idx, val_idx = indices[:split_idx], indices[split_idx:]\n",
    "\n",
    "        train_subset = [dataset[i] for i in train_idx]\n",
    "        val_subset = [dataset[i] for i in val_idx]\n",
    "\n",
    "        train_loader = DataLoader(train_subset, batch_size=config[\"batch_size\"], shuffle=True)\n",
    "        val_loader = DataLoader(val_subset, batch_size=config[\"batch_size\"], shuffle=False)\n",
    "\n",
    "        # Параметры модели\n",
    "        model_params = {\n",
    "            \"in_channels\": 5,\n",
    "            \"hidden_channels\": config[\"hidden_channels\"],\n",
    "            \"out_channels\": 1,\n",
    "            \"num_layers\": config[\"num_layers\"],\n",
    "            \"activation_fn\": getattr(nn, config[\"activation_fn\"])(),\n",
    "            \"use_batchnorm\": config[\"use_batchnorm\"],\n",
    "            \"pooling\": config[\"pooling\"],\n",
    "            \"dropout\": config[\"dropout\"]\n",
    "        }\n",
    "\n",
    "        # Оптимизатор\n",
    "        optimizer_class = getattr(torch.optim, config[\"optimizer\"])\n",
    "        optimizer_params = {\"lr\": config[\"lr\"]}\n",
    "        if config[\"optimizer\"] == \"SGD\":\n",
    "            optimizer_params[\"momentum\"] = 0.9\n",
    "\n",
    "        activation_fn = getattr(nn, config.get(\"activation_fn\", \"ReLU\"))\n",
    "\n",
    "        # Формирование run_id на основе конфига, без создания директории\n",
    "        run_id = generate_gnn_run_id(\n",
    "            run_name=\"gnn\",\n",
    "            lr=config[\"lr\"],\n",
    "            batch_size=config[\"batch_size\"],\n",
    "            epochs=num_epochs,\n",
    "            hidden_channels=config[\"hidden_channels\"],\n",
    "            activation_fn=activation_fn,\n",
    "            optimizer_name=config[\"optimizer\"]\n",
    "        )\n",
    "\n",
    "\n",
    "        # Обучение\n",
    "        metrics = train_gnn_simple(\n",
    "            dataset=deepcopy(dataset),\n",
    "            model_class=GCNRegressor,\n",
    "            model_params=model_params,\n",
    "            loss_fn=nn.MSELoss(),\n",
    "            optimizer_class=optimizer_class,\n",
    "            optimizer_params=optimizer_params,\n",
    "            device=device,\n",
    "            num_epochs=num_epochs,\n",
    "            batch_size=config[\"batch_size\"],\n",
    "            run_id=run_id,\n",
    "            val_split=0.1,\n",
    "            val_every=val_every,\n",
    "            early_stopping_rounds=early_stopping_rounds,\n",
    "            metric_for_early_stopping=metric_for_early_stopping,\n",
    "            maximize=maximize\n",
    "        )\n",
    "\n",
    "        run_id = f\"{base_run_id}_seed{seed}\"\n",
    "        result = {\n",
    "            \"run_id\": run_id,\n",
    "            \"seed\": seed,\n",
    "            \"r2\": metrics[\"r2\"],\n",
    "            \"mae\": metrics[\"mae\"],\n",
    "            \"mse\": metrics[\"mse\"]\n",
    "        }\n",
    "        all_results.append(result)\n",
    "\n",
    "        print(f\"✅ Done: {run_id}\")\n",
    "        print(f\"📊 R²={metrics['r2']:.4f} | MAE={metrics['mae']:.4f} | MSE={metrics['mse']:.6f}\")\n",
    "\n",
    "        # 🛡️ Убедимся, что директория для лога существует\n",
    "        LOG_CSV_PATH.parent.mkdir(parents=True, exist_ok=True)\n",
    "\n",
    "        # 📓 Сохраняем результат и гиперпараметры в лог\n",
    "        if LOG_CSV_PATH:\n",
    "            # Объединяем метрики и гиперпараметры в одну запись\n",
    "            log_entry = {**result, **config}\n",
    "            \n",
    "            # Определяем порядок полей (метрики + гиперпараметры)\n",
    "            fieldnames = list(log_entry.keys())\n",
    "\n",
    "            # Нужно ли писать заголовок (если файл не существует или пустой)\n",
    "            write_header = not LOG_CSV_PATH.exists() or os.stat(LOG_CSV_PATH).st_size == 0\n",
    "\n",
    "            # Пишем в CSV\n",
    "            with open(LOG_CSV_PATH, mode='a', newline='') as file:\n",
    "                writer = csv.DictWriter(file, fieldnames=fieldnames)\n",
    "                if write_header:\n",
    "                    writer.writeheader()\n",
    "                writer.writerow(log_entry)\n",
    "                print(f\"📝 Лог записан в {LOG_CSV_PATH.name}\")\n",
    "\n",
    "\n",
    "        # Обновление лучшего результата\n",
    "        if metrics[\"r2\"] > best_r2:\n",
    "            best_r2 = metrics[\"r2\"]\n",
    "            best_result = result\n",
    "            best_model_state_dict = metrics[\"model_state_dict\"]  # 🟢 добавили\n",
    "        \n",
    "    # 💾 Сохраняем веса лучшей модели\n",
    "    if best_model_state_dict is not None:\n",
    "        run_id_for_filename = best_result[\"run_id\"]  # 👈 получаем уникальный run_id\n",
    "        model_save_path = config_path.parent / f\"best_model_over_seeds_{run_id_for_filename}.pth\"\n",
    "\n",
    "        # 🧹 Удаляем все .pth файлы в папке\n",
    "        for f in glob.glob(str(config_path.parent / \"*.pth\")):\n",
    "            os.remove(f)\n",
    "            print(f\"🧹 Удалён файл: {f}\")\n",
    "\n",
    "\n",
    "        # 💾 Сохраняем новую лучшую модель\n",
    "        torch.save(best_model_state_dict, model_save_path)\n",
    "        print(f\"💾 Лучшая модель по всем сид-запускам сохранена в: {model_save_path}\")\n",
    "\n",
    "\n",
    "    return best_result, all_results\n"
   ]
  },
  {
   "cell_type": "code",
   "execution_count": 20,
   "id": "5c24a7bd",
   "metadata": {},
   "outputs": [
    {
     "name": "stderr",
     "output_type": "stream",
     "text": [
      "/mnt/d/projects/wind_pressure_prediction_GNN/linux_wpp_GNN/lib/python3.12/site-packages/torch_geometric/deprecation.py:26: UserWarning: 'data.DataLoader' is deprecated, use 'loader.DataLoader' instead\n",
      "  warnings.warn(out)\n"
     ]
    },
    {
     "name": "stdout",
     "output_type": "stream",
     "text": [
      "🌱 Используемые сиды: [124263, 410635]\n",
      "\n",
      "📦 Загруженные гиперпараметры из конфигурации:\n",
      "   hidden_channels: 128\n",
      "   batch_size: 16\n",
      "   num_layers: 3\n",
      "   activation_fn: ReLU\n",
      "   use_batchnorm: True\n",
      "   pooling: max\n",
      "   dropout: 0.0\n",
      "   lr: 0.01\n",
      "   optimizer: Adam\n",
      "\n",
      "🌱 Starting training with seed 124263\n"
     ]
    },
    {
     "name": "stderr",
     "output_type": "stream",
     "text": [
      "📈 Training:   1%|          | 1/150 [00:01<03:00,  1.21s/it]"
     ]
    },
    {
     "name": "stdout",
     "output_type": "stream",
     "text": [
      "📉 Epoch 01 | Train Loss: 0.349073 | Val R²: 0.1867 | MAE: 0.3760 | MSE: 0.210375\n"
     ]
    },
    {
     "name": "stderr",
     "output_type": "stream",
     "text": [
      "📈 Training:   7%|▋         | 10/150 [00:10<02:29,  1.07s/it]"
     ]
    },
    {
     "name": "stdout",
     "output_type": "stream",
     "text": [
      "📉 Epoch 10 | Train Loss: 0.079356 | Val R²: 0.6899 | MAE: 0.2020 | MSE: 0.080209\n"
     ]
    },
    {
     "name": "stderr",
     "output_type": "stream",
     "text": [
      "📈 Training:  13%|█▎        | 20/150 [00:22<02:39,  1.23s/it]"
     ]
    },
    {
     "name": "stdout",
     "output_type": "stream",
     "text": [
      "📉 Epoch 20 | Train Loss: 0.063537 | Val R²: 0.7990 | MAE: 0.1618 | MSE: 0.052002\n"
     ]
    },
    {
     "name": "stderr",
     "output_type": "stream",
     "text": [
      "📈 Training:  20%|██        | 30/150 [00:38<03:10,  1.59s/it]"
     ]
    },
    {
     "name": "stdout",
     "output_type": "stream",
     "text": [
      "📉 Epoch 30 | Train Loss: 0.057673 | Val R²: 0.8085 | MAE: 0.1547 | MSE: 0.049526\n"
     ]
    },
    {
     "name": "stderr",
     "output_type": "stream",
     "text": [
      "📈 Training:  27%|██▋       | 40/150 [00:51<02:26,  1.34s/it]"
     ]
    },
    {
     "name": "stdout",
     "output_type": "stream",
     "text": [
      "📉 Epoch 40 | Train Loss: 0.041573 | Val R²: 0.8501 | MAE: 0.1330 | MSE: 0.038776\n"
     ]
    },
    {
     "name": "stderr",
     "output_type": "stream",
     "text": [
      "📈 Training:  33%|███▎      | 50/150 [01:04<02:19,  1.40s/it]"
     ]
    },
    {
     "name": "stdout",
     "output_type": "stream",
     "text": [
      "📉 Epoch 50 | Train Loss: 0.049036 | Val R²: 0.8774 | MAE: 0.1239 | MSE: 0.031721\n"
     ]
    },
    {
     "name": "stderr",
     "output_type": "stream",
     "text": [
      "📈 Training:  40%|████      | 60/150 [01:20<02:01,  1.35s/it]"
     ]
    },
    {
     "name": "stdout",
     "output_type": "stream",
     "text": [
      "📉 Epoch 60 | Train Loss: 0.049072 | Val R²: 0.7846 | MAE: 0.1631 | MSE: 0.055723\n",
      "⏸️  No improvement for 1 validation checks\n"
     ]
    },
    {
     "name": "stderr",
     "output_type": "stream",
     "text": [
      "📈 Training:  47%|████▋     | 70/150 [01:33<01:49,  1.37s/it]"
     ]
    },
    {
     "name": "stdout",
     "output_type": "stream",
     "text": [
      "📉 Epoch 70 | Train Loss: 0.050863 | Val R²: 0.8416 | MAE: 0.1479 | MSE: 0.040980\n",
      "⏸️  No improvement for 2 validation checks\n"
     ]
    },
    {
     "name": "stderr",
     "output_type": "stream",
     "text": [
      "📈 Training:  53%|█████▎    | 80/150 [01:50<01:44,  1.50s/it]"
     ]
    },
    {
     "name": "stdout",
     "output_type": "stream",
     "text": [
      "📉 Epoch 80 | Train Loss: 0.055026 | Val R²: 0.8513 | MAE: 0.1421 | MSE: 0.038462\n",
      "⏸️  No improvement for 3 validation checks\n"
     ]
    },
    {
     "name": "stderr",
     "output_type": "stream",
     "text": [
      "📈 Training:  60%|██████    | 90/150 [02:05<01:39,  1.65s/it]"
     ]
    },
    {
     "name": "stdout",
     "output_type": "stream",
     "text": [
      "📉 Epoch 90 | Train Loss: 0.034553 | Val R²: 0.9044 | MAE: 0.1112 | MSE: 0.024737\n"
     ]
    },
    {
     "name": "stderr",
     "output_type": "stream",
     "text": [
      "📈 Training:  67%|██████▋   | 100/150 [02:23<01:24,  1.69s/it]"
     ]
    },
    {
     "name": "stdout",
     "output_type": "stream",
     "text": [
      "📉 Epoch 100 | Train Loss: 0.047930 | Val R²: 0.9025 | MAE: 0.1114 | MSE: 0.025231\n",
      "⏸️  No improvement for 1 validation checks\n"
     ]
    },
    {
     "name": "stderr",
     "output_type": "stream",
     "text": [
      "📈 Training:  73%|███████▎  | 110/150 [02:36<00:52,  1.32s/it]"
     ]
    },
    {
     "name": "stdout",
     "output_type": "stream",
     "text": [
      "📉 Epoch 110 | Train Loss: 0.040675 | Val R²: 0.8702 | MAE: 0.1256 | MSE: 0.033573\n",
      "⏸️  No improvement for 2 validation checks\n"
     ]
    },
    {
     "name": "stderr",
     "output_type": "stream",
     "text": [
      "📈 Training:  80%|████████  | 120/150 [02:53<01:06,  2.20s/it]"
     ]
    },
    {
     "name": "stdout",
     "output_type": "stream",
     "text": [
      "📉 Epoch 120 | Train Loss: 0.049940 | Val R²: 0.8141 | MAE: 0.1488 | MSE: 0.048079\n",
      "⏸️  No improvement for 3 validation checks\n"
     ]
    },
    {
     "name": "stderr",
     "output_type": "stream",
     "text": [
      "📈 Training:  87%|████████▋ | 130/150 [03:06<00:26,  1.33s/it]"
     ]
    },
    {
     "name": "stdout",
     "output_type": "stream",
     "text": [
      "📉 Epoch 130 | Train Loss: 0.039581 | Val R²: 0.8929 | MAE: 0.1134 | MSE: 0.027698\n",
      "⏸️  No improvement for 4 validation checks\n"
     ]
    },
    {
     "name": "stderr",
     "output_type": "stream",
     "text": [
      "📈 Training:  93%|█████████▎| 140/150 [03:19<00:13,  1.36s/it]"
     ]
    },
    {
     "name": "stdout",
     "output_type": "stream",
     "text": [
      "📉 Epoch 140 | Train Loss: 0.036959 | Val R²: 0.8832 | MAE: 0.1187 | MSE: 0.030224\n",
      "⏸️  No improvement for 5 validation checks\n"
     ]
    },
    {
     "name": "stderr",
     "output_type": "stream",
     "text": [
      "📈 Training: 100%|██████████| 150/150 [03:35<00:00,  1.44s/it]\n",
      "/mnt/d/projects/wind_pressure_prediction_GNN/linux_wpp_GNN/lib/python3.12/site-packages/torch_geometric/deprecation.py:26: UserWarning: 'data.DataLoader' is deprecated, use 'loader.DataLoader' instead\n",
      "  warnings.warn(out)\n"
     ]
    },
    {
     "name": "stdout",
     "output_type": "stream",
     "text": [
      "📉 Epoch 150 | Train Loss: 0.040668 | Val R²: 0.8769 | MAE: 0.1233 | MSE: 0.031833\n",
      "⏸️  No improvement for 6 validation checks\n",
      "✅ Done: gnn_0.01lr_16bs_128hc_3lyr_relu_bn_maxpool_adam_seed124263\n",
      "📊 R²=0.9044 | MAE=0.1112 | MSE=0.024737\n",
      "📝 Лог записан в stability_log.csv\n",
      "\n",
      "🌱 Starting training with seed 410635\n"
     ]
    },
    {
     "name": "stderr",
     "output_type": "stream",
     "text": [
      "📈 Training:   1%|          | 1/150 [00:01<03:12,  1.29s/it]"
     ]
    },
    {
     "name": "stdout",
     "output_type": "stream",
     "text": [
      "📉 Epoch 01 | Train Loss: 0.390515 | Val R²: -0.0223 | MAE: 0.4409 | MSE: 0.251329\n"
     ]
    },
    {
     "name": "stderr",
     "output_type": "stream",
     "text": [
      "📈 Training:   7%|▋         | 10/150 [00:12<03:05,  1.33s/it]"
     ]
    },
    {
     "name": "stdout",
     "output_type": "stream",
     "text": [
      "📉 Epoch 10 | Train Loss: 0.070850 | Val R²: 0.7696 | MAE: 0.1689 | MSE: 0.056645\n"
     ]
    },
    {
     "name": "stderr",
     "output_type": "stream",
     "text": [
      "📈 Training:  13%|█▎        | 20/150 [00:28<04:10,  1.93s/it]"
     ]
    },
    {
     "name": "stdout",
     "output_type": "stream",
     "text": [
      "📉 Epoch 20 | Train Loss: 0.071140 | Val R²: 0.8048 | MAE: 0.1522 | MSE: 0.047999\n"
     ]
    },
    {
     "name": "stderr",
     "output_type": "stream",
     "text": [
      "📈 Training:  20%|██        | 30/150 [00:41<02:41,  1.34s/it]"
     ]
    },
    {
     "name": "stdout",
     "output_type": "stream",
     "text": [
      "📉 Epoch 30 | Train Loss: 0.067545 | Val R²: 0.8256 | MAE: 0.1391 | MSE: 0.042873\n"
     ]
    },
    {
     "name": "stderr",
     "output_type": "stream",
     "text": [
      "📈 Training:  27%|██▋       | 40/150 [00:55<02:37,  1.43s/it]"
     ]
    },
    {
     "name": "stdout",
     "output_type": "stream",
     "text": [
      "📉 Epoch 40 | Train Loss: 0.046422 | Val R²: 0.8013 | MAE: 0.1503 | MSE: 0.048847\n",
      "⏸️  No improvement for 1 validation checks\n"
     ]
    },
    {
     "name": "stderr",
     "output_type": "stream",
     "text": [
      "📈 Training:  33%|███▎      | 50/150 [01:11<02:15,  1.36s/it]"
     ]
    },
    {
     "name": "stdout",
     "output_type": "stream",
     "text": [
      "📉 Epoch 50 | Train Loss: 0.043187 | Val R²: 0.8380 | MAE: 0.1346 | MSE: 0.039834\n"
     ]
    },
    {
     "name": "stderr",
     "output_type": "stream",
     "text": [
      "📈 Training:  40%|████      | 60/150 [01:25<02:11,  1.46s/it]"
     ]
    },
    {
     "name": "stdout",
     "output_type": "stream",
     "text": [
      "📉 Epoch 60 | Train Loss: 0.040591 | Val R²: 0.8137 | MAE: 0.1441 | MSE: 0.045811\n",
      "⏸️  No improvement for 1 validation checks\n"
     ]
    },
    {
     "name": "stderr",
     "output_type": "stream",
     "text": [
      "📈 Training:  47%|████▋     | 70/150 [01:41<02:04,  1.55s/it]"
     ]
    },
    {
     "name": "stdout",
     "output_type": "stream",
     "text": [
      "📉 Epoch 70 | Train Loss: 0.061359 | Val R²: 0.7447 | MAE: 0.1721 | MSE: 0.062777\n",
      "⏸️  No improvement for 2 validation checks\n"
     ]
    },
    {
     "name": "stderr",
     "output_type": "stream",
     "text": [
      "📈 Training:  53%|█████▎    | 80/150 [01:55<01:36,  1.38s/it]"
     ]
    },
    {
     "name": "stdout",
     "output_type": "stream",
     "text": [
      "📉 Epoch 80 | Train Loss: 0.038898 | Val R²: 0.8678 | MAE: 0.1249 | MSE: 0.032511\n"
     ]
    },
    {
     "name": "stderr",
     "output_type": "stream",
     "text": [
      "📈 Training:  60%|██████    | 90/150 [02:11<01:48,  1.81s/it]"
     ]
    },
    {
     "name": "stdout",
     "output_type": "stream",
     "text": [
      "📉 Epoch 90 | Train Loss: 0.046915 | Val R²: 0.8757 | MAE: 0.1182 | MSE: 0.030555\n"
     ]
    },
    {
     "name": "stderr",
     "output_type": "stream",
     "text": [
      "📈 Training:  67%|██████▋   | 100/150 [02:24<01:07,  1.35s/it]"
     ]
    },
    {
     "name": "stdout",
     "output_type": "stream",
     "text": [
      "📉 Epoch 100 | Train Loss: 0.038223 | Val R²: 0.9076 | MAE: 0.0996 | MSE: 0.022723\n"
     ]
    },
    {
     "name": "stderr",
     "output_type": "stream",
     "text": [
      "📈 Training:  73%|███████▎  | 110/150 [02:38<00:55,  1.40s/it]"
     ]
    },
    {
     "name": "stdout",
     "output_type": "stream",
     "text": [
      "📉 Epoch 110 | Train Loss: 0.043189 | Val R²: 0.8949 | MAE: 0.1123 | MSE: 0.025837\n",
      "⏸️  No improvement for 1 validation checks\n"
     ]
    },
    {
     "name": "stderr",
     "output_type": "stream",
     "text": [
      "📈 Training:  80%|████████  | 120/150 [02:55<00:43,  1.44s/it]"
     ]
    },
    {
     "name": "stdout",
     "output_type": "stream",
     "text": [
      "📉 Epoch 120 | Train Loss: 0.040682 | Val R²: 0.9079 | MAE: 0.1022 | MSE: 0.022644\n"
     ]
    },
    {
     "name": "stderr",
     "output_type": "stream",
     "text": [
      "📈 Training:  87%|████████▋ | 130/150 [03:08<00:27,  1.38s/it]"
     ]
    },
    {
     "name": "stdout",
     "output_type": "stream",
     "text": [
      "📉 Epoch 130 | Train Loss: 0.037339 | Val R²: 0.8833 | MAE: 0.1185 | MSE: 0.028686\n",
      "⏸️  No improvement for 1 validation checks\n"
     ]
    },
    {
     "name": "stderr",
     "output_type": "stream",
     "text": [
      "📈 Training:  93%|█████████▎| 140/150 [03:24<00:16,  1.66s/it]"
     ]
    },
    {
     "name": "stdout",
     "output_type": "stream",
     "text": [
      "📉 Epoch 140 | Train Loss: 0.035234 | Val R²: 0.9026 | MAE: 0.1048 | MSE: 0.023939\n",
      "⏸️  No improvement for 2 validation checks\n"
     ]
    },
    {
     "name": "stderr",
     "output_type": "stream",
     "text": [
      "📈 Training: 100%|██████████| 150/150 [03:38<00:00,  1.46s/it]"
     ]
    },
    {
     "name": "stdout",
     "output_type": "stream",
     "text": [
      "📉 Epoch 150 | Train Loss: 0.039051 | Val R²: 0.9177 | MAE: 0.0998 | MSE: 0.020245\n",
      "✅ Done: gnn_0.01lr_16bs_128hc_3lyr_relu_bn_maxpool_adam_seed410635\n",
      "📊 R²=0.9177 | MAE=0.0998 | MSE=0.020245\n",
      "📝 Лог записан в stability_log.csv\n",
      "💾 Лучшая модель по всем сид-запускам сохранена в: /mnt/d/projects/wind_pressure_prediction_GNN/final_model/gnn_0.01lr_16bs_128hc_3lyr_relu_bn_maxpool_adam/best_model_over_seeds_gnn_0.01lr_16bs_128hc_3lyr_relu_bn_maxpool_adam_seed410635.pth\n",
      "\n",
      "🎯 Лучший результат:\n",
      "Run ID : 410635\n",
      "R²     : 0.9177\n",
      "MAE    : 0.0998\n",
      "MSE    : 0.020245\n"
     ]
    },
    {
     "name": "stderr",
     "output_type": "stream",
     "text": [
      "\n"
     ]
    }
   ],
   "source": [
    "if __name__ == \"__main__\":\n",
    "\n",
    "    # === Настройка вручную\n",
    "    NUM_EPOCHS = 150\n",
    "\n",
    "    # === Генерация сидов\n",
    "    NUM_RUNS = 2\n",
    "    random.seed(int(time.time()))\n",
    "    seeds = random.sample(range(1_000_000), NUM_RUNS)\n",
    "    print(\"🌱 Используемые сиды:\", seeds)\n",
    "\n",
    "    # === Запуск серии тренировок GNN на разных сид\n",
    "    best_result, all_results = run_gnn_train_from_config(\n",
    "        dataset=dataset,\n",
    "        config_path=CONFIG_PATH,\n",
    "        seeds=seeds,\n",
    "        num_epochs=NUM_EPOCHS\n",
    "    )\n",
    "\n",
    "    # === Выводим лучший результат\n",
    "    print(\"\\n🎯 Лучший результат:\")\n",
    "    print(f\"Run ID : {best_result['seed']}\")\n",
    "    print(f\"R²     : {best_result['r2']:.4f}\")\n",
    "    print(f\"MAE    : {best_result['mae']:.4f}\")\n",
    "    print(f\"MSE    : {best_result['mse']:.6f}\")\n",
    "\n",
    "\n"
   ]
  },
  {
   "cell_type": "code",
   "execution_count": 23,
   "id": "7b373df0",
   "metadata": {},
   "outputs": [
    {
     "name": "stderr",
     "output_type": "stream",
     "text": [
      "/tmp/ipykernel_11602/1812246608.py:58: UserWarning: Glyph 128200 (\\N{CHART WITH UPWARDS TREND}) missing from font(s) DejaVu Sans.\n",
      "  plt.tight_layout()\n",
      "/tmp/ipykernel_11602/1812246608.py:58: UserWarning: Glyph 127919 (\\N{DIRECT HIT}) missing from font(s) DejaVu Sans.\n",
      "  plt.tight_layout()\n",
      "/tmp/ipykernel_11602/1812246608.py:58: UserWarning: Glyph 128201 (\\N{CHART WITH DOWNWARDS TREND}) missing from font(s) DejaVu Sans.\n",
      "  plt.tight_layout()\n",
      "/tmp/ipykernel_11602/1812246608.py:59: UserWarning: Glyph 128200 (\\N{CHART WITH UPWARDS TREND}) missing from font(s) DejaVu Sans.\n",
      "  plt.savefig(fig_path)\n",
      "/tmp/ipykernel_11602/1812246608.py:59: UserWarning: Glyph 127919 (\\N{DIRECT HIT}) missing from font(s) DejaVu Sans.\n",
      "  plt.savefig(fig_path)\n",
      "/tmp/ipykernel_11602/1812246608.py:59: UserWarning: Glyph 128201 (\\N{CHART WITH DOWNWARDS TREND}) missing from font(s) DejaVu Sans.\n",
      "  plt.savefig(fig_path)\n"
     ]
    },
    {
     "data": {
      "text/plain": [
       "<Figure size 1600x500 with 0 Axes>"
      ]
     },
     "metadata": {},
     "output_type": "display_data"
    },
    {
     "name": "stderr",
     "output_type": "stream",
     "text": [
      "/mnt/d/projects/wind_pressure_prediction_GNN/linux_wpp_GNN/lib/python3.12/site-packages/IPython/core/pylabtools.py:170: UserWarning: Glyph 128200 (\\N{CHART WITH UPWARDS TREND}) missing from font(s) DejaVu Sans.\n",
      "  fig.canvas.print_figure(bytes_io, **kw)\n",
      "/mnt/d/projects/wind_pressure_prediction_GNN/linux_wpp_GNN/lib/python3.12/site-packages/IPython/core/pylabtools.py:170: UserWarning: Glyph 127919 (\\N{DIRECT HIT}) missing from font(s) DejaVu Sans.\n",
      "  fig.canvas.print_figure(bytes_io, **kw)\n",
      "/mnt/d/projects/wind_pressure_prediction_GNN/linux_wpp_GNN/lib/python3.12/site-packages/IPython/core/pylabtools.py:170: UserWarning: Glyph 128201 (\\N{CHART WITH DOWNWARDS TREND}) missing from font(s) DejaVu Sans.\n",
      "  fig.canvas.print_figure(bytes_io, **kw)\n"
     ]
    },
    {
     "data": {
      "image/png": "[encoded data removed]",
      "text/plain": [
       "<Figure size 1500x500 with 3 Axes>"
      ]
     },
     "metadata": {},
     "output_type": "display_data"
    },
    {
     "name": "stdout",
     "output_type": "stream",
     "text": [
      "✅ Stability analysis complete:\n",
      "{\n",
      "    \"r2_mean\": 0.9037,\n",
      "    \"r2_std\": 0.0309,\n",
      "    \"mae_mean\": 0.1081,\n",
      "    \"mae_std\": 0.0155,\n",
      "    \"mse_mean\": 0.024032,\n",
      "    \"mse_std\": 0.00756,\n",
      "    \"runs\": 4\n",
      "}\n",
      "📁 Saved metrics: /mnt/d/projects/wind_pressure_prediction_GNN/final_model/gnn_0.01lr_16bs_128hc_3lyr_relu_bn_maxpool_adam/stability_gnn_0.01lr_16bs_128hc_3lyr_relu_bn_maxpool_adam.json\n",
      "🖼️  Saved plot: /mnt/d/projects/wind_pressure_prediction_GNN/final_model/gnn_0.01lr_16bs_128hc_3lyr_relu_bn_maxpool_adam/stability_plot_gnn_0.01lr_16bs_128hc_3lyr_relu_bn_maxpool_adam.png\n"
     ]
    }
   ],
   "source": [
    "# 📁 src/tuning/analyze_stability_gnn.py\n",
    "\n",
    "\n",
    "# === 📌 Пути (адаптируй под свой проект)\n",
    "\n",
    "ARCH_LABEL = SAVE_ROOT.name  # используем имя папки как имя модели\n",
    "\n",
    "# === 📥 Загрузка CSV\n",
    "df = pd.read_csv(LOG_CSV_PATH)\n",
    "\n",
    "# ➕ Добавим колонку run по индексу\n",
    "df[\"run\"] = range(1, len(df) + 1)\n",
    "\n",
    "# === 📊 Подсчёт стабильности\n",
    "stability = {\n",
    "    \"r2_mean\":  round(df[\"r2\"].mean(), 4),\n",
    "    \"r2_std\":   round(df[\"r2\"].std(), 4),\n",
    "    \"mae_mean\": round(df[\"mae\"].mean(), 4),\n",
    "    \"mae_std\":  round(df[\"mae\"].std(), 4),\n",
    "    \"mse_mean\": round(df[\"mse\"].mean(), 6),\n",
    "    \"mse_std\":  round(df[\"mse\"].std(), 6),\n",
    "    \"runs\":     len(df)\n",
    "}\n",
    "\n",
    "# === 💾 Сохраняем метрики\n",
    "stability_path = SAVE_ROOT / f\"stability_{ARCH_LABEL}.json\"\n",
    "with open(stability_path, \"w\") as f:\n",
    "    json.dump(stability, f, indent=4)\n",
    "\n",
    "# === 📈 Визуализация\n",
    "plt.figure(figsize=(16, 5))\n",
    "\n",
    "# ➤ R² по прогонам\n",
    "plt.figure(figsize=(15, 5))\n",
    "\n",
    "plt.subplot(1, 3, 1)\n",
    "sns.lineplot(x=\"seed\", y=\"r2\", data=df, marker=\"o\", linewidth=1.5)\n",
    "plt.title(\"📈 R² over Seeds\")\n",
    "plt.xlabel(\"Seed\")\n",
    "plt.ylabel(\"R²\")\n",
    "plt.grid(True)\n",
    "\n",
    "# ➤ Boxplot R²\n",
    "plt.subplot(1, 3, 2)\n",
    "sns.boxplot(y=\"r2\", data=df)\n",
    "plt.title(\"🎯 R² Distribution\")\n",
    "plt.grid(True)\n",
    "\n",
    "# ➤ Гистограмма MAE\n",
    "plt.subplot(1, 3, 3)\n",
    "sns.histplot(df[\"mae\"], bins=20, kde=True)\n",
    "plt.title(\"📉 MAE Distribution\")\n",
    "plt.xlabel(\"MAE\")\n",
    "plt.grid(True)\n",
    "\n",
    "# 💾 Сохраняем график\n",
    "fig_path = SAVE_ROOT / f\"stability_plot_{ARCH_LABEL}.png\"\n",
    "plt.tight_layout()\n",
    "plt.savefig(fig_path)\n",
    "plt.show()\n",
    "\n",
    "# ✅ Вывод\n",
    "print(\"✅ Stability analysis complete:\")\n",
    "print(json.dumps(stability, indent=4))\n",
    "print(f\"📁 Saved metrics: {stability_path}\")\n",
    "print(f\"🖼️  Saved plot: {fig_path}\")\n",
    "\n"
   ]
  }
 ],
 "metadata": {
  "kernelspec": {
   "display_name": "linux_wpp_GNN",
   "language": "python",
   "name": "python3"
  },
  "language_info": {
   "codemirror_mode": {
    "name": "ipython",
    "version": 3
   },
   "file_extension": ".py",
   "mimetype": "text/x-python",
   "name": "python",
   "nbconvert_exporter": "python",
   "pygments_lexer": "ipython3",
   "version": "3.12.3"
  }
 },
 "nbformat": 4,
 "nbformat_minor": 5
}
